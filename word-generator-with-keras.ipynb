{
 "cells": [
  {
   "cell_type": "markdown",
   "id": "b1b7cd62",
   "metadata": {
    "papermill": {
     "duration": 0.005585,
     "end_time": "2023-08-06T10:55:30.725226",
     "exception": false,
     "start_time": "2023-08-06T10:55:30.719641",
     "status": "completed"
    },
    "tags": []
   },
   "source": [
    "1. [Loading Data & Libraries](#1)\n",
    "1. [Data Cleaning & Tokenizing](#2)\n",
    "1. [Creating Model](#3)\n",
    "1. [Training Model](#4)\n",
    "1. [Making Predictions](#5)\n"
   ]
  },
  {
   "cell_type": "markdown",
   "id": "b234dc63",
   "metadata": {
    "papermill": {
     "duration": 0.004706,
     "end_time": "2023-08-06T10:55:30.735014",
     "exception": false,
     "start_time": "2023-08-06T10:55:30.730308",
     "status": "completed"
    },
    "tags": []
   },
   "source": [
    "<a id = \"1\"></a><br>\n",
    "# Loading Data & Libraries"
   ]
  },
  {
   "cell_type": "code",
   "execution_count": 1,
   "id": "43c4e8eb",
   "metadata": {
    "_cell_guid": "b1076dfc-b9ad-4769-8c92-a6c4dae69d19",
    "_uuid": "8f2839f25d086af736a60e9eeb907d3b93b6e0e5",
    "execution": {
     "iopub.execute_input": "2023-08-06T10:55:30.747436Z",
     "iopub.status.busy": "2023-08-06T10:55:30.746950Z",
     "iopub.status.idle": "2023-08-06T10:55:40.021205Z",
     "shell.execute_reply": "2023-08-06T10:55:40.020061Z"
    },
    "papermill": {
     "duration": 9.283689,
     "end_time": "2023-08-06T10:55:40.023559",
     "exception": false,
     "start_time": "2023-08-06T10:55:30.739870",
     "status": "completed"
    },
    "tags": []
   },
   "outputs": [
    {
     "name": "stderr",
     "output_type": "stream",
     "text": [
      "/opt/conda/lib/python3.10/site-packages/scipy/__init__.py:146: UserWarning: A NumPy version >=1.16.5 and <1.23.0 is required for this version of SciPy (detected version 1.23.5\n",
      "  warnings.warn(f\"A NumPy version >={np_minversion} and <{np_maxversion}\"\n",
      "/opt/conda/lib/python3.10/site-packages/tensorflow_io/python/ops/__init__.py:98: UserWarning: unable to load libtensorflow_io_plugins.so: unable to open file: libtensorflow_io_plugins.so, from paths: ['/opt/conda/lib/python3.10/site-packages/tensorflow_io/python/ops/libtensorflow_io_plugins.so']\n",
      "caused by: ['/opt/conda/lib/python3.10/site-packages/tensorflow_io/python/ops/libtensorflow_io_plugins.so: undefined symbol: _ZN3tsl6StatusC1EN10tensorflow5error4CodeESt17basic_string_viewIcSt11char_traitsIcEENS_14SourceLocationE']\n",
      "  warnings.warn(f\"unable to load libtensorflow_io_plugins.so: {e}\")\n",
      "/opt/conda/lib/python3.10/site-packages/tensorflow_io/python/ops/__init__.py:104: UserWarning: file system plugins are not loaded: unable to open file: libtensorflow_io.so, from paths: ['/opt/conda/lib/python3.10/site-packages/tensorflow_io/python/ops/libtensorflow_io.so']\n",
      "caused by: ['/opt/conda/lib/python3.10/site-packages/tensorflow_io/python/ops/libtensorflow_io.so: undefined symbol: _ZTVN10tensorflow13GcsFileSystemE']\n",
      "  warnings.warn(f\"file system plugins are not loaded: {e}\")\n"
     ]
    }
   ],
   "source": [
    "import numpy as np\n",
    "from keras.models import Sequential, load_model\n",
    "from keras.layers import Dense, Embedding, LSTM, Dropout\n",
    "from keras.utils import to_categorical\n",
    "from random import randint\n",
    "import re\n",
    "# To ignore warnings\n",
    "import warnings\n",
    "warnings.filterwarnings('ignore')"
   ]
  },
  {
   "cell_type": "code",
   "execution_count": 2,
   "id": "dec470ad",
   "metadata": {
    "execution": {
     "iopub.execute_input": "2023-08-06T10:55:40.036638Z",
     "iopub.status.busy": "2023-08-06T10:55:40.035934Z",
     "iopub.status.idle": "2023-08-06T10:55:42.178286Z",
     "shell.execute_reply": "2023-08-06T10:55:42.177281Z"
    },
    "papermill": {
     "duration": 2.151504,
     "end_time": "2023-08-06T10:55:42.180595",
     "exception": false,
     "start_time": "2023-08-06T10:55:40.029091",
     "status": "completed"
    },
    "tags": []
   },
   "outputs": [
    {
     "name": "stdout",
     "output_type": "stream",
     "text": [
      "[nltk_data] Downloading package gutenberg to /usr/share/nltk_data...\n",
      "[nltk_data]   Package gutenberg is already up-to-date!\n",
      "['austen-emma.txt', 'austen-persuasion.txt', 'austen-sense.txt', 'bible-kjv.txt', 'blake-poems.txt', 'bryant-stories.txt', 'burgess-busterbrown.txt', 'carroll-alice.txt', 'chesterton-ball.txt', 'chesterton-brown.txt', 'chesterton-thursday.txt', 'edgeworth-parents.txt', 'melville-moby_dick.txt', 'milton-paradise.txt', 'shakespeare-caesar.txt', 'shakespeare-hamlet.txt', 'shakespeare-macbeth.txt', 'whitman-leaves.txt']\n"
     ]
    }
   ],
   "source": [
    "import nltk\n",
    "nltk.download('gutenberg')\n",
    "from nltk.corpus import gutenberg as gut\n",
    "\n",
    "print(gut.fileids())"
   ]
  },
  {
   "cell_type": "code",
   "execution_count": 3,
   "id": "f9788169",
   "metadata": {
    "execution": {
     "iopub.execute_input": "2023-08-06T10:55:42.193177Z",
     "iopub.status.busy": "2023-08-06T10:55:42.192762Z",
     "iopub.status.idle": "2023-08-06T10:55:42.201093Z",
     "shell.execute_reply": "2023-08-06T10:55:42.200103Z"
    },
    "papermill": {
     "duration": 0.016966,
     "end_time": "2023-08-06T10:55:42.203100",
     "exception": false,
     "start_time": "2023-08-06T10:55:42.186134",
     "status": "completed"
    },
    "tags": []
   },
   "outputs": [],
   "source": [
    "macbeth_text = nltk.corpus.gutenberg.raw('shakespeare-macbeth.txt')"
   ]
  },
  {
   "cell_type": "code",
   "execution_count": 4,
   "id": "c5ab227e",
   "metadata": {
    "execution": {
     "iopub.execute_input": "2023-08-06T10:55:42.216406Z",
     "iopub.status.busy": "2023-08-06T10:55:42.215431Z",
     "iopub.status.idle": "2023-08-06T10:55:42.222254Z",
     "shell.execute_reply": "2023-08-06T10:55:42.220486Z"
    },
    "papermill": {
     "duration": 0.016232,
     "end_time": "2023-08-06T10:55:42.224830",
     "exception": false,
     "start_time": "2023-08-06T10:55:42.208598",
     "status": "completed"
    },
    "tags": []
   },
   "outputs": [
    {
     "name": "stdout",
     "output_type": "stream",
     "text": [
      "[The Tragedie of Macbeth by William Shakespeare 1603]\n",
      "\n",
      "\n",
      "Actus Primus. Scoena Prima.\n",
      "\n",
      "Thunder and Lightning. Enter three Witches.\n",
      "\n",
      "  1. When shall we three meet againe?\n",
      "In Thunder, Lightning, or in Raine?\n",
      "  2. When the Hurley-burley's done,\n",
      "When the Battaile's lost, and wonne\n",
      "\n",
      "   3. That will be ere the set of Sunne\n",
      "\n",
      "   1. Where the place?\n",
      "  2. Vpon the Heath\n",
      "\n",
      "   3. There to meet with Macbeth\n",
      "\n",
      "   1. I come, Gray-Malkin\n",
      "\n",
      "   All. Padock calls anon: faire is foule, and foule is faire,\n",
      "Houer through \n"
     ]
    }
   ],
   "source": [
    "print(macbeth_text[:500])"
   ]
  },
  {
   "cell_type": "markdown",
   "id": "2390f941",
   "metadata": {
    "papermill": {
     "duration": 0.004996,
     "end_time": "2023-08-06T10:55:42.235476",
     "exception": false,
     "start_time": "2023-08-06T10:55:42.230480",
     "status": "completed"
    },
    "tags": []
   },
   "source": [
    "<a id = \"2\"></a><br>\n",
    "# Data Cleaning & Tokenizing"
   ]
  },
  {
   "cell_type": "code",
   "execution_count": 5,
   "id": "33d82d36",
   "metadata": {
    "execution": {
     "iopub.execute_input": "2023-08-06T10:55:42.248615Z",
     "iopub.status.busy": "2023-08-06T10:55:42.248277Z",
     "iopub.status.idle": "2023-08-06T10:55:42.253712Z",
     "shell.execute_reply": "2023-08-06T10:55:42.252788Z"
    },
    "papermill": {
     "duration": 0.014928,
     "end_time": "2023-08-06T10:55:42.255583",
     "exception": false,
     "start_time": "2023-08-06T10:55:42.240655",
     "status": "completed"
    },
    "tags": []
   },
   "outputs": [],
   "source": [
    "def preprocess_text(sen):\n",
    "    # Remove punctuations and numbers\n",
    "    sentence = re.sub('[^a-zA-Z]', ' ', sen)\n",
    "\n",
    "    # Single character removal\n",
    "    sentence = re.sub(r\"\\s+[a-zA-Z]\\s+\", ' ', sentence)\n",
    "\n",
    "    # Removing multiple spaces\n",
    "    sentence = re.sub(r'\\s+', ' ', sentence)\n",
    "\n",
    "    return sentence.lower()"
   ]
  },
  {
   "cell_type": "code",
   "execution_count": 6,
   "id": "4e1ed871",
   "metadata": {
    "execution": {
     "iopub.execute_input": "2023-08-06T10:55:42.268329Z",
     "iopub.status.busy": "2023-08-06T10:55:42.267654Z",
     "iopub.status.idle": "2023-08-06T10:55:42.286815Z",
     "shell.execute_reply": "2023-08-06T10:55:42.285891Z"
    },
    "papermill": {
     "duration": 0.027664,
     "end_time": "2023-08-06T10:55:42.288752",
     "exception": false,
     "start_time": "2023-08-06T10:55:42.261088",
     "status": "completed"
    },
    "tags": []
   },
   "outputs": [
    {
     "data": {
      "text/plain": [
       "' the tragedie of macbeth by william shakespeare actus primus scoena prima thunder and lightning enter three witches when shall we three meet againe in thunder lightning or in raine when the hurley burley done when the battaile lost and wonne that will be ere the set of sunne where the place vpon the heath there to meet with macbeth come gray malkin all padock calls anon faire is foule and foule is faire houer through the fogge and filthie ayre exeunt scena secunda alarum within enter king malcom'"
      ]
     },
     "execution_count": 6,
     "metadata": {},
     "output_type": "execute_result"
    }
   ],
   "source": [
    "macbeth_text = preprocess_text(macbeth_text)\n",
    "macbeth_text[:500]"
   ]
  },
  {
   "cell_type": "code",
   "execution_count": 7,
   "id": "f7acd29a",
   "metadata": {
    "execution": {
     "iopub.execute_input": "2023-08-06T10:55:42.302567Z",
     "iopub.status.busy": "2023-08-06T10:55:42.301291Z",
     "iopub.status.idle": "2023-08-06T10:55:42.371714Z",
     "shell.execute_reply": "2023-08-06T10:55:42.370188Z"
    },
    "papermill": {
     "duration": 0.079793,
     "end_time": "2023-08-06T10:55:42.374282",
     "exception": false,
     "start_time": "2023-08-06T10:55:42.294489",
     "status": "completed"
    },
    "tags": []
   },
   "outputs": [
    {
     "name": "stdout",
     "output_type": "stream",
     "text": [
      "Total Words: 17250\n",
      "Unique Words: 3436\n"
     ]
    }
   ],
   "source": [
    "from nltk.tokenize import word_tokenize\n",
    "\n",
    "macbeth_text_words = (word_tokenize(macbeth_text))\n",
    "n_words = len(macbeth_text_words)\n",
    "unique_words = len(set(macbeth_text_words))\n",
    "\n",
    "print('Total Words: %d' % n_words)\n",
    "print('Unique Words: %d' % unique_words)"
   ]
  },
  {
   "cell_type": "code",
   "execution_count": 8,
   "id": "9ad954db",
   "metadata": {
    "execution": {
     "iopub.execute_input": "2023-08-06T10:55:42.387313Z",
     "iopub.status.busy": "2023-08-06T10:55:42.386925Z",
     "iopub.status.idle": "2023-08-06T10:55:42.541422Z",
     "shell.execute_reply": "2023-08-06T10:55:42.539919Z"
    },
    "papermill": {
     "duration": 0.164132,
     "end_time": "2023-08-06T10:55:42.544281",
     "exception": false,
     "start_time": "2023-08-06T10:55:42.380149",
     "status": "completed"
    },
    "tags": []
   },
   "outputs": [],
   "source": [
    "from keras.preprocessing.text import Tokenizer\n",
    "tokenizer = Tokenizer(num_words=3437)\n",
    "tokenizer.fit_on_texts(macbeth_text_words)"
   ]
  },
  {
   "cell_type": "code",
   "execution_count": 9,
   "id": "8fc26ed0",
   "metadata": {
    "execution": {
     "iopub.execute_input": "2023-08-06T10:55:42.557816Z",
     "iopub.status.busy": "2023-08-06T10:55:42.557413Z",
     "iopub.status.idle": "2023-08-06T10:55:42.563407Z",
     "shell.execute_reply": "2023-08-06T10:55:42.561760Z"
    },
    "papermill": {
     "duration": 0.015959,
     "end_time": "2023-08-06T10:55:42.566314",
     "exception": false,
     "start_time": "2023-08-06T10:55:42.550355",
     "status": "completed"
    },
    "tags": []
   },
   "outputs": [],
   "source": [
    "vocab_size = len(tokenizer.word_index) + 1\n",
    "word_2_index = tokenizer.word_index"
   ]
  },
  {
   "cell_type": "code",
   "execution_count": 10,
   "id": "e5a73283",
   "metadata": {
    "execution": {
     "iopub.execute_input": "2023-08-06T10:55:42.580099Z",
     "iopub.status.busy": "2023-08-06T10:55:42.579691Z",
     "iopub.status.idle": "2023-08-06T10:55:42.585477Z",
     "shell.execute_reply": "2023-08-06T10:55:42.584113Z"
    },
    "papermill": {
     "duration": 0.015978,
     "end_time": "2023-08-06T10:55:42.588475",
     "exception": false,
     "start_time": "2023-08-06T10:55:42.572497",
     "status": "completed"
    },
    "tags": []
   },
   "outputs": [
    {
     "name": "stdout",
     "output_type": "stream",
     "text": [
      "worthy\n",
      "158\n"
     ]
    }
   ],
   "source": [
    "print(macbeth_text_words[421])\n",
    "print(word_2_index[macbeth_text_words[421]])"
   ]
  },
  {
   "cell_type": "code",
   "execution_count": 11,
   "id": "c9478a9d",
   "metadata": {
    "execution": {
     "iopub.execute_input": "2023-08-06T10:55:42.603082Z",
     "iopub.status.busy": "2023-08-06T10:55:42.601845Z",
     "iopub.status.idle": "2023-08-06T10:55:42.803017Z",
     "shell.execute_reply": "2023-08-06T10:55:42.801611Z"
    },
    "papermill": {
     "duration": 0.210854,
     "end_time": "2023-08-06T10:55:42.805295",
     "exception": false,
     "start_time": "2023-08-06T10:55:42.594441",
     "status": "completed"
    },
    "tags": []
   },
   "outputs": [],
   "source": [
    "input_sequence = []\n",
    "output_words = []\n",
    "input_seq_length = 100\n",
    "\n",
    "for i in range(0, n_words - input_seq_length , 1):\n",
    "    in_seq = macbeth_text_words[i:i + input_seq_length]\n",
    "    out_seq = macbeth_text_words[i + input_seq_length]\n",
    "    input_sequence.append([word_2_index[word] for word in in_seq])\n",
    "    output_words.append(word_2_index[out_seq])"
   ]
  },
  {
   "cell_type": "code",
   "execution_count": 12,
   "id": "ebbb4f9c",
   "metadata": {
    "execution": {
     "iopub.execute_input": "2023-08-06T10:55:42.818448Z",
     "iopub.status.busy": "2023-08-06T10:55:42.818067Z",
     "iopub.status.idle": "2023-08-06T10:55:42.824550Z",
     "shell.execute_reply": "2023-08-06T10:55:42.822867Z"
    },
    "papermill": {
     "duration": 0.015454,
     "end_time": "2023-08-06T10:55:42.826552",
     "exception": false,
     "start_time": "2023-08-06T10:55:42.811098",
     "status": "completed"
    },
    "tags": []
   },
   "outputs": [
    {
     "name": "stdout",
     "output_type": "stream",
     "text": [
      "[1, 869, 4, 40, 60, 1358, 1359, 408, 1360, 1361, 409, 265, 2, 870, 31, 190, 291, 76, 36, 30, 190, 327, 128, 8, 265, 870, 83, 8, 1362, 76, 1, 1363, 1364, 86, 76, 1, 1365, 354, 2, 871, 5, 34, 14, 168, 1, 292, 4, 649, 77, 1, 220, 41, 1, 872, 53, 3, 327, 12, 40, 52, 1366, 1367, 25, 1368, 873, 328, 355, 9, 410, 2, 410, 9, 355, 1369, 356, 1, 1370, 2, 874, 169, 103, 127, 411, 357, 149, 31, 51, 1371, 329, 107, 12, 358, 412, 875, 1372, 51, 20, 170, 92, 9]\n"
     ]
    }
   ],
   "source": [
    "print(input_sequence[0])"
   ]
  },
  {
   "cell_type": "code",
   "execution_count": 13,
   "id": "eac06946",
   "metadata": {
    "execution": {
     "iopub.execute_input": "2023-08-06T10:55:42.839441Z",
     "iopub.status.busy": "2023-08-06T10:55:42.839062Z",
     "iopub.status.idle": "2023-08-06T10:55:42.981887Z",
     "shell.execute_reply": "2023-08-06T10:55:42.980182Z"
    },
    "papermill": {
     "duration": 0.15197,
     "end_time": "2023-08-06T10:55:42.984217",
     "exception": false,
     "start_time": "2023-08-06T10:55:42.832247",
     "status": "completed"
    },
    "tags": []
   },
   "outputs": [],
   "source": [
    "X = np.reshape(input_sequence, (len(input_sequence), input_seq_length, 1))\n",
    "X = X / float(vocab_size)\n",
    "\n",
    "y = to_categorical(output_words)"
   ]
  },
  {
   "cell_type": "code",
   "execution_count": 14,
   "id": "b4de5210",
   "metadata": {
    "execution": {
     "iopub.execute_input": "2023-08-06T10:55:42.997470Z",
     "iopub.status.busy": "2023-08-06T10:55:42.997114Z",
     "iopub.status.idle": "2023-08-06T10:55:43.003077Z",
     "shell.execute_reply": "2023-08-06T10:55:43.001706Z"
    },
    "papermill": {
     "duration": 0.015095,
     "end_time": "2023-08-06T10:55:43.005291",
     "exception": false,
     "start_time": "2023-08-06T10:55:42.990196",
     "status": "completed"
    },
    "tags": []
   },
   "outputs": [
    {
     "name": "stdout",
     "output_type": "stream",
     "text": [
      "X shape: (17150, 100, 1)\n",
      "y shape: (17150, 3437)\n"
     ]
    }
   ],
   "source": [
    "print(\"X shape:\", X.shape)\n",
    "print(\"y shape:\", y.shape)"
   ]
  },
  {
   "cell_type": "markdown",
   "id": "a94b784e",
   "metadata": {
    "papermill": {
     "duration": 0.005595,
     "end_time": "2023-08-06T10:55:43.017046",
     "exception": false,
     "start_time": "2023-08-06T10:55:43.011451",
     "status": "completed"
    },
    "tags": []
   },
   "source": [
    "<a id = \"3\"></a><br>\n",
    "# Creating Model"
   ]
  },
  {
   "cell_type": "code",
   "execution_count": 15,
   "id": "b3904c4e",
   "metadata": {
    "execution": {
     "iopub.execute_input": "2023-08-06T10:55:43.030433Z",
     "iopub.status.busy": "2023-08-06T10:55:43.030054Z",
     "iopub.status.idle": "2023-08-06T10:55:43.984766Z",
     "shell.execute_reply": "2023-08-06T10:55:43.982637Z"
    },
    "papermill": {
     "duration": 0.964561,
     "end_time": "2023-08-06T10:55:43.987567",
     "exception": false,
     "start_time": "2023-08-06T10:55:43.023006",
     "status": "completed"
    },
    "tags": []
   },
   "outputs": [
    {
     "name": "stdout",
     "output_type": "stream",
     "text": [
      "Model: \"sequential\"\n",
      "_________________________________________________________________\n",
      " Layer (type)                Output Shape              Param #   \n",
      "=================================================================\n",
      " lstm (LSTM)                 (None, 100, 40)           6720      \n",
      "                                                                 \n",
      " lstm_1 (LSTM)               (None, 100, 40)           12960     \n",
      "                                                                 \n",
      " lstm_2 (LSTM)               (None, 40)                12960     \n",
      "                                                                 \n",
      " dense (Dense)               (None, 3437)              140917    \n",
      "                                                                 \n",
      "=================================================================\n",
      "Total params: 173,557\n",
      "Trainable params: 173,557\n",
      "Non-trainable params: 0\n",
      "_________________________________________________________________\n"
     ]
    }
   ],
   "source": [
    "model = Sequential()\n",
    "model.add(LSTM(40, input_shape=(X.shape[1], X.shape[2]), return_sequences=True))\n",
    "model.add(LSTM(40, return_sequences=True))\n",
    "model.add(LSTM(40))\n",
    "model.add(Dense(y.shape[1], activation='softmax'))\n",
    "\n",
    "model.summary()\n",
    "\n",
    "model.compile(loss='categorical_crossentropy', optimizer='adam')"
   ]
  },
  {
   "cell_type": "markdown",
   "id": "7ae083f5",
   "metadata": {
    "papermill": {
     "duration": 0.006548,
     "end_time": "2023-08-06T10:55:44.001147",
     "exception": false,
     "start_time": "2023-08-06T10:55:43.994599",
     "status": "completed"
    },
    "tags": []
   },
   "source": [
    "<a id = \"4\"></a><br>\n",
    "# Training Model"
   ]
  },
  {
   "cell_type": "code",
   "execution_count": 16,
   "id": "8feb3ca8",
   "metadata": {
    "execution": {
     "iopub.execute_input": "2023-08-06T10:55:44.016433Z",
     "iopub.status.busy": "2023-08-06T10:55:44.016073Z",
     "iopub.status.idle": "2023-08-06T11:01:03.989104Z",
     "shell.execute_reply": "2023-08-06T11:01:03.988410Z"
    },
    "papermill": {
     "duration": 319.982824,
     "end_time": "2023-08-06T11:01:03.990867",
     "exception": false,
     "start_time": "2023-08-06T10:55:44.008043",
     "status": "completed"
    },
    "tags": []
   },
   "outputs": [
    {
     "name": "stdout",
     "output_type": "stream",
     "text": [
      "Epoch 1/10\n",
      "268/268 [==============================] - 37s 119ms/step - loss: 6.9993\n",
      "Epoch 2/10\n",
      "268/268 [==============================] - 32s 119ms/step - loss: 6.6383\n",
      "Epoch 3/10\n",
      "268/268 [==============================] - 32s 119ms/step - loss: 6.6238\n",
      "Epoch 4/10\n",
      "268/268 [==============================] - 31s 116ms/step - loss: 6.6179\n",
      "Epoch 5/10\n",
      "268/268 [==============================] - 31s 116ms/step - loss: 6.6157\n",
      "Epoch 6/10\n",
      "268/268 [==============================] - 31s 117ms/step - loss: 6.6139\n",
      "Epoch 7/10\n",
      "268/268 [==============================] - 31s 117ms/step - loss: 6.6123\n",
      "Epoch 8/10\n",
      "268/268 [==============================] - 31s 116ms/step - loss: 6.6097\n",
      "Epoch 9/10\n",
      "268/268 [==============================] - 32s 118ms/step - loss: 6.6079\n",
      "Epoch 10/10\n",
      "268/268 [==============================] - 32s 118ms/step - loss: 6.6053\n"
     ]
    },
    {
     "data": {
      "text/plain": [
       "<keras.callbacks.History at 0x788111ac2650>"
      ]
     },
     "execution_count": 16,
     "metadata": {},
     "output_type": "execute_result"
    }
   ],
   "source": [
    "model.fit(X, y, batch_size=64, epochs=10, verbose=1)"
   ]
  },
  {
   "cell_type": "markdown",
   "id": "c00b9aad",
   "metadata": {
    "papermill": {
     "duration": 0.155723,
     "end_time": "2023-08-06T11:01:04.302039",
     "exception": false,
     "start_time": "2023-08-06T11:01:04.146316",
     "status": "completed"
    },
    "tags": []
   },
   "source": [
    "<a id = \"5\"></a><br>\n",
    "# Making Predictions"
   ]
  },
  {
   "cell_type": "code",
   "execution_count": 17,
   "id": "934a773e",
   "metadata": {
    "execution": {
     "iopub.execute_input": "2023-08-06T11:01:04.618968Z",
     "iopub.status.busy": "2023-08-06T11:01:04.618611Z",
     "iopub.status.idle": "2023-08-06T11:01:04.626922Z",
     "shell.execute_reply": "2023-08-06T11:01:04.625387Z"
    },
    "papermill": {
     "duration": 0.169526,
     "end_time": "2023-08-06T11:01:04.629109",
     "exception": false,
     "start_time": "2023-08-06T11:01:04.459583",
     "status": "completed"
    },
    "tags": []
   },
   "outputs": [
    {
     "name": "stdout",
     "output_type": "stream",
     "text": [
      "of horrid hell can come diuell more damn in euils to top macbeth mal grant him bloody luxurious auaricious false deceitfull sodaine malicious smacking of euery sinne that ha a name but there no bottome none in my voluptuousnesse your wiues your daughters your matrons and your maides could not fill vp the cesterne of my lust and my desire all continent impediments would ore beare that did oppose my will better macbeth then such an one to reigne macd boundlesse intemperance in nature is tyranny it hath beene th vntimely emptying of the happy throne and fall of many\n"
     ]
    }
   ],
   "source": [
    "random_seq_index = np.random.randint(0, len(input_sequence)-1)\n",
    "random_seq = input_sequence[random_seq_index]\n",
    "\n",
    "index_2_word = dict(map(reversed, word_2_index.items()))\n",
    "\n",
    "word_sequence = [index_2_word[value] for value in random_seq]\n",
    "\n",
    "print(' '.join(word_sequence))"
   ]
  },
  {
   "cell_type": "code",
   "execution_count": 18,
   "id": "f3df1c65",
   "metadata": {
    "execution": {
     "iopub.execute_input": "2023-08-06T11:01:05.004406Z",
     "iopub.status.busy": "2023-08-06T11:01:05.004094Z",
     "iopub.status.idle": "2023-08-06T11:01:12.344350Z",
     "shell.execute_reply": "2023-08-06T11:01:12.343249Z"
    },
    "papermill": {
     "duration": 7.562416,
     "end_time": "2023-08-06T11:01:12.347481",
     "exception": false,
     "start_time": "2023-08-06T11:01:04.785065",
     "status": "completed"
    },
    "tags": []
   },
   "outputs": [],
   "source": [
    "for i in range(100):\n",
    "    int_sample = np.reshape(random_seq, (1, len(random_seq), 1))\n",
    "    int_sample = int_sample / float(vocab_size)\n",
    "\n",
    "    predicted_word_index = model.predict(int_sample, verbose=0)\n",
    "\n",
    "    predicted_word_id = np.argmax(predicted_word_index)\n",
    "    seq_in = [index_2_word[index] for index in random_seq]\n",
    "\n",
    "    word_sequence.append(index_2_word[ predicted_word_id])\n",
    "\n",
    "    random_seq.append(predicted_word_id)\n",
    "    random_seq = random_seq[1:len(random_seq)]"
   ]
  },
  {
   "cell_type": "code",
   "execution_count": 19,
   "id": "4703dde0",
   "metadata": {
    "execution": {
     "iopub.execute_input": "2023-08-06T11:01:12.662618Z",
     "iopub.status.busy": "2023-08-06T11:01:12.662210Z",
     "iopub.status.idle": "2023-08-06T11:01:12.668550Z",
     "shell.execute_reply": "2023-08-06T11:01:12.667115Z"
    },
    "papermill": {
     "duration": 0.167872,
     "end_time": "2023-08-06T11:01:12.670613",
     "exception": false,
     "start_time": "2023-08-06T11:01:12.502741",
     "status": "completed"
    },
    "tags": []
   },
   "outputs": [
    {
     "name": "stdout",
     "output_type": "stream",
     "text": [
      " of horrid hell can come diuell more damn in euils to top macbeth mal grant him bloody luxurious auaricious false deceitfull sodaine malicious smacking of euery sinne that ha a name but there no bottome none in my voluptuousnesse your wiues your daughters your matrons and your maides could not fill vp the cesterne of my lust and my desire all continent impediments would ore beare that did oppose my will better macbeth then such an one to reigne macd boundlesse intemperance in nature is tyranny it hath beene th vntimely emptying of the happy throne and fall of many the the the the the the the the the the the the the the the the the the the the the the the the the the the the the the the the the the the the the the the the the the the the the the the the the the the the the the the the the the the the the the the the the the the the the the the the the the the the the the the the the the the the the the the the the the the the the the the the the the the the\n"
     ]
    }
   ],
   "source": [
    "final_output = \"\"\n",
    "for word in word_sequence:\n",
    "    final_output = final_output + \" \" + word\n",
    "\n",
    "print(final_output)"
   ]
  }
 ],
 "metadata": {
  "kernelspec": {
   "display_name": "Python 3",
   "language": "python",
   "name": "python3"
  },
  "language_info": {
   "codemirror_mode": {
    "name": "ipython",
    "version": 3
   },
   "file_extension": ".py",
   "mimetype": "text/x-python",
   "name": "python",
   "nbconvert_exporter": "python",
   "pygments_lexer": "ipython3",
   "version": "3.10.12"
  },
  "papermill": {
   "default_parameters": {},
   "duration": 353.582749,
   "end_time": "2023-08-06T11:01:15.342938",
   "environment_variables": {},
   "exception": null,
   "input_path": "__notebook__.ipynb",
   "output_path": "__notebook__.ipynb",
   "parameters": {},
   "start_time": "2023-08-06T10:55:21.760189",
   "version": "2.4.0"
  }
 },
 "nbformat": 4,
 "nbformat_minor": 5
}
