{
 "cells": [
  {
   "cell_type": "markdown",
   "id": "0b3e16ec",
   "metadata": {
    "papermill": {
     "duration": 0.007119,
     "end_time": "2023-08-04T15:30:06.348043",
     "exception": false,
     "start_time": "2023-08-04T15:30:06.340924",
     "status": "completed"
    },
    "tags": []
   },
   "source": [
    "1. [Loading Data](#1)\n",
    "1. [Tokenizer](#2)\n",
    "1. [Creating Model](#3)\n",
    "1. [Loading Model](#4)\n",
    "1. [Evaluation](#5)\n"
   ]
  },
  {
   "cell_type": "markdown",
   "id": "7143167a",
   "metadata": {
    "papermill": {
     "duration": 0.00588,
     "end_time": "2023-08-04T15:30:06.360289",
     "exception": false,
     "start_time": "2023-08-04T15:30:06.354409",
     "status": "completed"
    },
    "tags": []
   },
   "source": [
    "<a id = \"1\"></a><br>\n",
    "# Loading Data"
   ]
  },
  {
   "cell_type": "code",
   "execution_count": 1,
   "id": "d800213f",
   "metadata": {
    "execution": {
     "iopub.execute_input": "2023-08-04T15:30:06.374413Z",
     "iopub.status.busy": "2023-08-04T15:30:06.374028Z",
     "iopub.status.idle": "2023-08-04T15:30:06.386088Z",
     "shell.execute_reply": "2023-08-04T15:30:06.384963Z"
    },
    "papermill": {
     "duration": 0.022083,
     "end_time": "2023-08-04T15:30:06.388548",
     "exception": false,
     "start_time": "2023-08-04T15:30:06.366465",
     "status": "completed"
    },
    "tags": []
   },
   "outputs": [],
   "source": [
    "# Run this to ensure TensorFlow 2.x is used\n",
    "try:\n",
    "  # %tensorflow_version only exists in Colab.\n",
    "  %tensorflow_version 2.x\n",
    "except Exception:\n",
    "  pass"
   ]
  },
  {
   "cell_type": "code",
   "execution_count": 2,
   "id": "7bc8936c",
   "metadata": {
    "_cell_guid": "b1076dfc-b9ad-4769-8c92-a6c4dae69d19",
    "_uuid": "8f2839f25d086af736a60e9eeb907d3b93b6e0e5",
    "execution": {
     "iopub.execute_input": "2023-08-04T15:30:06.402839Z",
     "iopub.status.busy": "2023-08-04T15:30:06.402417Z",
     "iopub.status.idle": "2023-08-04T15:30:15.864099Z",
     "shell.execute_reply": "2023-08-04T15:30:15.863048Z"
    },
    "papermill": {
     "duration": 9.472169,
     "end_time": "2023-08-04T15:30:15.866965",
     "exception": false,
     "start_time": "2023-08-04T15:30:06.394796",
     "status": "completed"
    },
    "tags": []
   },
   "outputs": [
    {
     "name": "stderr",
     "output_type": "stream",
     "text": [
      "/opt/conda/lib/python3.10/site-packages/scipy/__init__.py:146: UserWarning: A NumPy version >=1.16.5 and <1.23.0 is required for this version of SciPy (detected version 1.23.5\n",
      "  warnings.warn(f\"A NumPy version >={np_minversion} and <{np_maxversion}\"\n",
      "/opt/conda/lib/python3.10/site-packages/tensorflow_io/python/ops/__init__.py:98: UserWarning: unable to load libtensorflow_io_plugins.so: unable to open file: libtensorflow_io_plugins.so, from paths: ['/opt/conda/lib/python3.10/site-packages/tensorflow_io/python/ops/libtensorflow_io_plugins.so']\n",
      "caused by: ['/opt/conda/lib/python3.10/site-packages/tensorflow_io/python/ops/libtensorflow_io_plugins.so: undefined symbol: _ZN3tsl6StatusC1EN10tensorflow5error4CodeESt17basic_string_viewIcSt11char_traitsIcEENS_14SourceLocationE']\n",
      "  warnings.warn(f\"unable to load libtensorflow_io_plugins.so: {e}\")\n",
      "/opt/conda/lib/python3.10/site-packages/tensorflow_io/python/ops/__init__.py:104: UserWarning: file system plugins are not loaded: unable to open file: libtensorflow_io.so, from paths: ['/opt/conda/lib/python3.10/site-packages/tensorflow_io/python/ops/libtensorflow_io.so']\n",
      "caused by: ['/opt/conda/lib/python3.10/site-packages/tensorflow_io/python/ops/libtensorflow_io.so: undefined symbol: _ZTVN10tensorflow13GcsFileSystemE']\n",
      "  warnings.warn(f\"file system plugins are not loaded: {e}\")\n"
     ]
    }
   ],
   "source": [
    "import json\n",
    "import tensorflow as tf\n",
    "from tensorflow.keras.preprocessing.text import Tokenizer\n",
    "from tensorflow.keras.preprocessing.sequence import pad_sequences\n",
    "import warnings\n",
    "warnings.filterwarnings(\"ignore\")"
   ]
  },
  {
   "cell_type": "code",
   "execution_count": 3,
   "id": "23fab048",
   "metadata": {
    "execution": {
     "iopub.execute_input": "2023-08-04T15:30:15.882533Z",
     "iopub.status.busy": "2023-08-04T15:30:15.881803Z",
     "iopub.status.idle": "2023-08-04T15:30:15.887643Z",
     "shell.execute_reply": "2023-08-04T15:30:15.886433Z"
    },
    "papermill": {
     "duration": 0.016287,
     "end_time": "2023-08-04T15:30:15.890009",
     "exception": false,
     "start_time": "2023-08-04T15:30:15.873722",
     "status": "completed"
    },
    "tags": []
   },
   "outputs": [],
   "source": [
    "vocab_size = 10000\n",
    "embedding_dim = 16\n",
    "max_length = 100\n",
    "trunc_type='post'\n",
    "padding_type='post'\n",
    "oov_tok = \"<OOV>\"\n",
    "training_size = 20000"
   ]
  },
  {
   "cell_type": "code",
   "execution_count": 4,
   "id": "4737c870",
   "metadata": {
    "execution": {
     "iopub.execute_input": "2023-08-04T15:30:15.904926Z",
     "iopub.status.busy": "2023-08-04T15:30:15.904501Z",
     "iopub.status.idle": "2023-08-04T15:30:18.184577Z",
     "shell.execute_reply": "2023-08-04T15:30:18.183416Z"
    },
    "papermill": {
     "duration": 2.290884,
     "end_time": "2023-08-04T15:30:18.187421",
     "exception": false,
     "start_time": "2023-08-04T15:30:15.896537",
     "status": "completed"
    },
    "tags": []
   },
   "outputs": [
    {
     "name": "stdout",
     "output_type": "stream",
     "text": [
      "--2023-08-04 15:30:16--  https://storage.googleapis.com/learning-datasets/sarcasm.json\r\n",
      "Resolving storage.googleapis.com (storage.googleapis.com)... 64.233.189.128, 108.177.97.128, 108.177.125.128, ...\r\n",
      "Connecting to storage.googleapis.com (storage.googleapis.com)|64.233.189.128|:443... connected.\r\n",
      "HTTP request sent, awaiting response... 200 OK\r\n",
      "Length: 5643545 (5.4M) [application/json]\r\n",
      "Saving to: ‘/tmp/sarcasm.json’\r\n",
      "\r\n",
      "/tmp/sarcasm.json   100%[===================>]   5.38M  6.71MB/s    in 0.8s    \r\n",
      "\r\n",
      "2023-08-04 15:30:18 (6.71 MB/s) - ‘/tmp/sarcasm.json’ saved [5643545/5643545]\r\n",
      "\r\n"
     ]
    }
   ],
   "source": [
    "!wget --no-check-certificate \\\n",
    "    https://storage.googleapis.com/learning-datasets/sarcasm.json \\\n",
    "    -O /tmp/sarcasm.json"
   ]
  },
  {
   "cell_type": "markdown",
   "id": "58b3ec48",
   "metadata": {
    "papermill": {
     "duration": 0.00688,
     "end_time": "2023-08-04T15:30:18.201733",
     "exception": false,
     "start_time": "2023-08-04T15:30:18.194853",
     "status": "completed"
    },
    "tags": []
   },
   "source": [
    "<a id = \"2\"></a><br>\n",
    "# Tokenizer"
   ]
  },
  {
   "cell_type": "code",
   "execution_count": 5,
   "id": "298347a5",
   "metadata": {
    "execution": {
     "iopub.execute_input": "2023-08-04T15:30:18.218427Z",
     "iopub.status.busy": "2023-08-04T15:30:18.217908Z",
     "iopub.status.idle": "2023-08-04T15:30:18.312470Z",
     "shell.execute_reply": "2023-08-04T15:30:18.310789Z"
    },
    "papermill": {
     "duration": 0.106229,
     "end_time": "2023-08-04T15:30:18.315440",
     "exception": false,
     "start_time": "2023-08-04T15:30:18.209211",
     "status": "completed"
    },
    "tags": []
   },
   "outputs": [],
   "source": [
    "with open(\"/tmp/sarcasm.json\", 'r') as f:\n",
    "    datastore = json.load(f)\n",
    "\n",
    "sentences = []\n",
    "labels = []\n",
    "\n",
    "for item in datastore:\n",
    "    sentences.append(item['headline'])\n",
    "    labels.append(item['is_sarcastic'])"
   ]
  },
  {
   "cell_type": "code",
   "execution_count": 6,
   "id": "1226f483",
   "metadata": {
    "execution": {
     "iopub.execute_input": "2023-08-04T15:30:18.331987Z",
     "iopub.status.busy": "2023-08-04T15:30:18.331518Z",
     "iopub.status.idle": "2023-08-04T15:30:18.338096Z",
     "shell.execute_reply": "2023-08-04T15:30:18.336839Z"
    },
    "papermill": {
     "duration": 0.01755,
     "end_time": "2023-08-04T15:30:18.340351",
     "exception": false,
     "start_time": "2023-08-04T15:30:18.322801",
     "status": "completed"
    },
    "tags": []
   },
   "outputs": [],
   "source": [
    "training_sentences = sentences[0:training_size]\n",
    "testing_sentences = sentences[training_size:]\n",
    "training_labels = labels[0:training_size]\n",
    "testing_labels = labels[training_size:]"
   ]
  },
  {
   "cell_type": "code",
   "execution_count": 7,
   "id": "58aac43b",
   "metadata": {
    "execution": {
     "iopub.execute_input": "2023-08-04T15:30:18.356460Z",
     "iopub.status.busy": "2023-08-04T15:30:18.356038Z",
     "iopub.status.idle": "2023-08-04T15:30:19.467033Z",
     "shell.execute_reply": "2023-08-04T15:30:19.465897Z"
    },
    "papermill": {
     "duration": 1.122384,
     "end_time": "2023-08-04T15:30:19.469871",
     "exception": false,
     "start_time": "2023-08-04T15:30:18.347487",
     "status": "completed"
    },
    "tags": []
   },
   "outputs": [],
   "source": [
    "tokenizer = Tokenizer(num_words=vocab_size, oov_token=oov_tok)\n",
    "tokenizer.fit_on_texts(training_sentences)\n",
    "word_index = tokenizer.word_index\n",
    "\n",
    "training_sequences = tokenizer.texts_to_sequences(training_sentences)\n",
    "training_padded = pad_sequences(training_sequences, maxlen=max_length, padding=padding_type, truncating=trunc_type)\n",
    "\n",
    "testing_sequences = tokenizer.texts_to_sequences(testing_sentences)\n",
    "testing_padded = pad_sequences(testing_sequences, maxlen=max_length, padding=padding_type, truncating=trunc_type)"
   ]
  },
  {
   "cell_type": "code",
   "execution_count": 8,
   "id": "8ca23cef",
   "metadata": {
    "execution": {
     "iopub.execute_input": "2023-08-04T15:30:19.488172Z",
     "iopub.status.busy": "2023-08-04T15:30:19.487323Z",
     "iopub.status.idle": "2023-08-04T15:30:19.506251Z",
     "shell.execute_reply": "2023-08-04T15:30:19.504676Z"
    },
    "papermill": {
     "duration": 0.030548,
     "end_time": "2023-08-04T15:30:19.509191",
     "exception": false,
     "start_time": "2023-08-04T15:30:19.478643",
     "status": "completed"
    },
    "tags": []
   },
   "outputs": [],
   "source": [
    "import numpy as np\n",
    "training_padded = np.array(training_padded)\n",
    "training_labels = np.array(training_labels)\n",
    "testing_padded = np.array(testing_padded)\n",
    "testing_labels = np.array(testing_labels)"
   ]
  },
  {
   "cell_type": "markdown",
   "id": "48f52465",
   "metadata": {
    "papermill": {
     "duration": 0.007298,
     "end_time": "2023-08-04T15:30:19.523760",
     "exception": false,
     "start_time": "2023-08-04T15:30:19.516462",
     "status": "completed"
    },
    "tags": []
   },
   "source": [
    "<a id = \"3\"></a><br>\n",
    "# Creating Model"
   ]
  },
  {
   "cell_type": "code",
   "execution_count": 9,
   "id": "e72a838e",
   "metadata": {
    "execution": {
     "iopub.execute_input": "2023-08-04T15:30:19.540481Z",
     "iopub.status.busy": "2023-08-04T15:30:19.540043Z",
     "iopub.status.idle": "2023-08-04T15:30:20.046693Z",
     "shell.execute_reply": "2023-08-04T15:30:20.045769Z"
    },
    "papermill": {
     "duration": 0.518277,
     "end_time": "2023-08-04T15:30:20.049398",
     "exception": false,
     "start_time": "2023-08-04T15:30:19.531121",
     "status": "completed"
    },
    "tags": []
   },
   "outputs": [],
   "source": [
    "model = tf.keras.Sequential([\n",
    "    tf.keras.layers.Embedding(vocab_size, embedding_dim, input_length=max_length),\n",
    "    tf.keras.layers.GlobalAveragePooling1D(),\n",
    "    tf.keras.layers.Dense(24, activation='relu'),\n",
    "    tf.keras.layers.Dense(1, activation='sigmoid')\n",
    "])\n",
    "model.compile(loss='binary_crossentropy',optimizer='adam',metrics=['accuracy'])"
   ]
  },
  {
   "cell_type": "code",
   "execution_count": 10,
   "id": "2bdf1c5b",
   "metadata": {
    "execution": {
     "iopub.execute_input": "2023-08-04T15:30:20.065536Z",
     "iopub.status.busy": "2023-08-04T15:30:20.065154Z",
     "iopub.status.idle": "2023-08-04T15:30:20.090359Z",
     "shell.execute_reply": "2023-08-04T15:30:20.088942Z"
    },
    "papermill": {
     "duration": 0.040891,
     "end_time": "2023-08-04T15:30:20.097426",
     "exception": false,
     "start_time": "2023-08-04T15:30:20.056535",
     "status": "completed"
    },
    "tags": []
   },
   "outputs": [
    {
     "name": "stdout",
     "output_type": "stream",
     "text": [
      "Model: \"sequential\"\n",
      "_________________________________________________________________\n",
      " Layer (type)                Output Shape              Param #   \n",
      "=================================================================\n",
      " embedding (Embedding)       (None, 100, 16)           160000    \n",
      "                                                                 \n",
      " global_average_pooling1d (G  (None, 16)               0         \n",
      " lobalAveragePooling1D)                                          \n",
      "                                                                 \n",
      " dense (Dense)               (None, 24)                408       \n",
      "                                                                 \n",
      " dense_1 (Dense)             (None, 1)                 25        \n",
      "                                                                 \n",
      "=================================================================\n",
      "Total params: 160,433\n",
      "Trainable params: 160,433\n",
      "Non-trainable params: 0\n",
      "_________________________________________________________________\n"
     ]
    }
   ],
   "source": [
    "model.summary()"
   ]
  },
  {
   "cell_type": "markdown",
   "id": "fc6f00bb",
   "metadata": {
    "papermill": {
     "duration": 0.008611,
     "end_time": "2023-08-04T15:30:20.115148",
     "exception": false,
     "start_time": "2023-08-04T15:30:20.106537",
     "status": "completed"
    },
    "tags": []
   },
   "source": [
    "<a id = \"4\"></a><br>\n",
    "# Loading Model"
   ]
  },
  {
   "cell_type": "code",
   "execution_count": 11,
   "id": "5a7af7f7",
   "metadata": {
    "execution": {
     "iopub.execute_input": "2023-08-04T15:30:20.134895Z",
     "iopub.status.busy": "2023-08-04T15:30:20.134187Z",
     "iopub.status.idle": "2023-08-04T15:31:23.810450Z",
     "shell.execute_reply": "2023-08-04T15:31:23.809182Z"
    },
    "papermill": {
     "duration": 63.689581,
     "end_time": "2023-08-04T15:31:23.813531",
     "exception": false,
     "start_time": "2023-08-04T15:30:20.123950",
     "status": "completed"
    },
    "tags": []
   },
   "outputs": [
    {
     "name": "stdout",
     "output_type": "stream",
     "text": [
      "Epoch 1/30\n",
      "625/625 - 3s - loss: 0.6562 - accuracy: 0.5867 - val_loss: 0.5629 - val_accuracy: 0.8073 - 3s/epoch - 5ms/step\n",
      "Epoch 2/30\n",
      "625/625 - 2s - loss: 0.4189 - accuracy: 0.8360 - val_loss: 0.3826 - val_accuracy: 0.8408 - 2s/epoch - 3ms/step\n",
      "Epoch 3/30\n",
      "625/625 - 2s - loss: 0.3032 - accuracy: 0.8816 - val_loss: 0.3515 - val_accuracy: 0.8544 - 2s/epoch - 3ms/step\n",
      "Epoch 4/30\n",
      "625/625 - 2s - loss: 0.2515 - accuracy: 0.9026 - val_loss: 0.3460 - val_accuracy: 0.8556 - 2s/epoch - 3ms/step\n",
      "Epoch 5/30\n",
      "625/625 - 2s - loss: 0.2166 - accuracy: 0.9171 - val_loss: 0.3467 - val_accuracy: 0.8563 - 2s/epoch - 3ms/step\n",
      "Epoch 6/30\n",
      "625/625 - 2s - loss: 0.1893 - accuracy: 0.9283 - val_loss: 0.3551 - val_accuracy: 0.8559 - 2s/epoch - 3ms/step\n",
      "Epoch 7/30\n",
      "625/625 - 2s - loss: 0.1696 - accuracy: 0.9374 - val_loss: 0.3709 - val_accuracy: 0.8511 - 2s/epoch - 3ms/step\n",
      "Epoch 8/30\n",
      "625/625 - 2s - loss: 0.1517 - accuracy: 0.9452 - val_loss: 0.3932 - val_accuracy: 0.8462 - 2s/epoch - 3ms/step\n",
      "Epoch 9/30\n",
      "625/625 - 2s - loss: 0.1366 - accuracy: 0.9503 - val_loss: 0.4010 - val_accuracy: 0.8509 - 2s/epoch - 3ms/step\n",
      "Epoch 10/30\n",
      "625/625 - 2s - loss: 0.1225 - accuracy: 0.9578 - val_loss: 0.4204 - val_accuracy: 0.8487 - 2s/epoch - 3ms/step\n",
      "Epoch 11/30\n",
      "625/625 - 2s - loss: 0.1137 - accuracy: 0.9606 - val_loss: 0.4667 - val_accuracy: 0.8374 - 2s/epoch - 3ms/step\n",
      "Epoch 12/30\n",
      "625/625 - 2s - loss: 0.1030 - accuracy: 0.9647 - val_loss: 0.4705 - val_accuracy: 0.8436 - 2s/epoch - 3ms/step\n",
      "Epoch 13/30\n",
      "625/625 - 2s - loss: 0.0959 - accuracy: 0.9672 - val_loss: 0.4953 - val_accuracy: 0.8387 - 2s/epoch - 3ms/step\n",
      "Epoch 14/30\n",
      "625/625 - 2s - loss: 0.0851 - accuracy: 0.9724 - val_loss: 0.5642 - val_accuracy: 0.8311 - 2s/epoch - 3ms/step\n",
      "Epoch 15/30\n",
      "625/625 - 2s - loss: 0.0798 - accuracy: 0.9742 - val_loss: 0.5596 - val_accuracy: 0.8350 - 2s/epoch - 3ms/step\n",
      "Epoch 16/30\n",
      "625/625 - 2s - loss: 0.0718 - accuracy: 0.9775 - val_loss: 0.5862 - val_accuracy: 0.8335 - 2s/epoch - 3ms/step\n",
      "Epoch 17/30\n",
      "625/625 - 2s - loss: 0.0669 - accuracy: 0.9787 - val_loss: 0.6267 - val_accuracy: 0.8313 - 2s/epoch - 3ms/step\n",
      "Epoch 18/30\n",
      "625/625 - 2s - loss: 0.0608 - accuracy: 0.9812 - val_loss: 0.6435 - val_accuracy: 0.8284 - 2s/epoch - 3ms/step\n",
      "Epoch 19/30\n",
      "625/625 - 2s - loss: 0.0570 - accuracy: 0.9829 - val_loss: 0.7226 - val_accuracy: 0.8253 - 2s/epoch - 3ms/step\n",
      "Epoch 20/30\n",
      "625/625 - 2s - loss: 0.0535 - accuracy: 0.9833 - val_loss: 0.7293 - val_accuracy: 0.8243 - 2s/epoch - 3ms/step\n",
      "Epoch 21/30\n",
      "625/625 - 2s - loss: 0.0480 - accuracy: 0.9860 - val_loss: 0.7791 - val_accuracy: 0.8216 - 2s/epoch - 3ms/step\n",
      "Epoch 22/30\n",
      "625/625 - 2s - loss: 0.0446 - accuracy: 0.9872 - val_loss: 0.8139 - val_accuracy: 0.8199 - 2s/epoch - 3ms/step\n",
      "Epoch 23/30\n",
      "625/625 - 2s - loss: 0.0398 - accuracy: 0.9883 - val_loss: 0.8412 - val_accuracy: 0.8201 - 2s/epoch - 3ms/step\n",
      "Epoch 24/30\n",
      "625/625 - 2s - loss: 0.0378 - accuracy: 0.9885 - val_loss: 0.9066 - val_accuracy: 0.8180 - 2s/epoch - 3ms/step\n",
      "Epoch 25/30\n",
      "625/625 - 2s - loss: 0.0351 - accuracy: 0.9901 - val_loss: 0.9019 - val_accuracy: 0.8192 - 2s/epoch - 3ms/step\n",
      "Epoch 26/30\n",
      "625/625 - 2s - loss: 0.0313 - accuracy: 0.9916 - val_loss: 0.9212 - val_accuracy: 0.8135 - 2s/epoch - 3ms/step\n",
      "Epoch 27/30\n",
      "625/625 - 2s - loss: 0.0304 - accuracy: 0.9907 - val_loss: 0.9889 - val_accuracy: 0.8164 - 2s/epoch - 3ms/step\n",
      "Epoch 28/30\n",
      "625/625 - 2s - loss: 0.0279 - accuracy: 0.9923 - val_loss: 1.0035 - val_accuracy: 0.8138 - 2s/epoch - 3ms/step\n",
      "Epoch 29/30\n",
      "625/625 - 2s - loss: 0.0257 - accuracy: 0.9934 - val_loss: 1.0309 - val_accuracy: 0.8116 - 2s/epoch - 3ms/step\n",
      "Epoch 30/30\n",
      "625/625 - 2s - loss: 0.0235 - accuracy: 0.9938 - val_loss: 1.1020 - val_accuracy: 0.8132 - 2s/epoch - 3ms/step\n"
     ]
    }
   ],
   "source": [
    "num_epochs = 30\n",
    "history = model.fit(training_padded, training_labels, epochs=num_epochs, validation_data=(testing_padded, testing_labels), verbose=2)"
   ]
  },
  {
   "cell_type": "markdown",
   "id": "39a56003",
   "metadata": {
    "papermill": {
     "duration": 0.013578,
     "end_time": "2023-08-04T15:31:23.841094",
     "exception": false,
     "start_time": "2023-08-04T15:31:23.827516",
     "status": "completed"
    },
    "tags": []
   },
   "source": [
    "<a id = \"5\"></a><br>\n",
    "# Evaluation"
   ]
  },
  {
   "cell_type": "code",
   "execution_count": 12,
   "id": "653d9441",
   "metadata": {
    "execution": {
     "iopub.execute_input": "2023-08-04T15:31:23.871082Z",
     "iopub.status.busy": "2023-08-04T15:31:23.870666Z",
     "iopub.status.idle": "2023-08-04T15:31:24.492691Z",
     "shell.execute_reply": "2023-08-04T15:31:24.491475Z"
    },
    "papermill": {
     "duration": 0.640356,
     "end_time": "2023-08-04T15:31:24.495313",
     "exception": false,
     "start_time": "2023-08-04T15:31:23.854957",
     "status": "completed"
    },
    "tags": []
   },
   "outputs": [
    {
     "data": {
      "image/png": "[encoded data removed]",
      "text/plain": [
       "<Figure size 640x480 with 1 Axes>"
      ]
     },
     "metadata": {},
     "output_type": "display_data"
    },
    {
     "data": {
      "image/png": "[encoded data removed]",
      "text/plain": [
       "<Figure size 640x480 with 1 Axes>"
      ]
     },
     "metadata": {},
     "output_type": "display_data"
    }
   ],
   "source": [
    "import matplotlib.pyplot as plt\n",
    "\n",
    "\n",
    "def plot_graphs(history, string):\n",
    "  plt.plot(history.history[string])\n",
    "  plt.plot(history.history['val_'+string])\n",
    "  plt.xlabel(\"Epochs\")\n",
    "  plt.ylabel(string)\n",
    "  plt.legend([string, 'val_'+string])\n",
    "  plt.show()\n",
    "  \n",
    "plot_graphs(history, \"accuracy\")\n",
    "plot_graphs(history, \"loss\")"
   ]
  },
  {
   "cell_type": "code",
   "execution_count": 13,
   "id": "46063f14",
   "metadata": {
    "execution": {
     "iopub.execute_input": "2023-08-04T15:31:24.527355Z",
     "iopub.status.busy": "2023-08-04T15:31:24.526957Z",
     "iopub.status.idle": "2023-08-04T15:31:24.688300Z",
     "shell.execute_reply": "2023-08-04T15:31:24.687056Z"
    },
    "papermill": {
     "duration": 0.180438,
     "end_time": "2023-08-04T15:31:24.690826",
     "exception": false,
     "start_time": "2023-08-04T15:31:24.510388",
     "status": "completed"
    },
    "tags": []
   },
   "outputs": [
    {
     "name": "stdout",
     "output_type": "stream",
     "text": [
      "1/1 [==============================] - 0s 105ms/step\n",
      "[[8.5571843e-01]\n",
      " [2.2355509e-06]]\n"
     ]
    }
   ],
   "source": [
    "sentence = [\"granny starting to fear spiders in the garden might be real\", \"game of thrones season finale showing this sunday night\"]\n",
    "sequences = tokenizer.texts_to_sequences(sentence)\n",
    "padded = pad_sequences(sequences, maxlen=max_length, padding=padding_type, truncating=trunc_type)\n",
    "print(model.predict(padded))"
   ]
  }
 ],
 "metadata": {
  "kernelspec": {
   "display_name": "Python 3",
   "language": "python",
   "name": "python3"
  },
  "language_info": {
   "codemirror_mode": {
    "name": "ipython",
    "version": 3
   },
   "file_extension": ".py",
   "mimetype": "text/x-python",
   "name": "python",
   "nbconvert_exporter": "python",
   "pygments_lexer": "ipython3",
   "version": "3.10.12"
  },
  "papermill": {
   "default_parameters": {},
   "duration": 91.5534,
   "end_time": "2023-08-04T15:31:26.733832",
   "environment_variables": {},
   "exception": null,
   "input_path": "__notebook__.ipynb",
   "output_path": "__notebook__.ipynb",
   "parameters": {},
   "start_time": "2023-08-04T15:29:55.180432",
   "version": "2.4.0"
  }
 },
 "nbformat": 4,
 "nbformat_minor": 5
}
