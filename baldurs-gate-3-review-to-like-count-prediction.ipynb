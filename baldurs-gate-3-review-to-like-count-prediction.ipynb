{
 "cells": [
  {
   "cell_type": "code",
   "execution_count": 1,
   "id": "7c6b1da3",
   "metadata": {
    "_cell_guid": "b1076dfc-b9ad-4769-8c92-a6c4dae69d19",
    "_uuid": "8f2839f25d086af736a60e9eeb907d3b93b6e0e5",
    "execution": {
     "iopub.execute_input": "2023-12-18T22:03:51.038955Z",
     "iopub.status.busy": "2023-12-18T22:03:51.038018Z",
     "iopub.status.idle": "2023-12-18T22:03:51.719615Z",
     "shell.execute_reply": "2023-12-18T22:03:51.718845Z"
    },
    "papermill": {
     "duration": 0.69228,
     "end_time": "2023-12-18T22:03:51.721945",
     "exception": false,
     "start_time": "2023-12-18T22:03:51.029665",
     "status": "completed"
    },
    "tags": []
   },
   "outputs": [],
   "source": [
    "import pandas as pd"
   ]
  },
  {
   "cell_type": "code",
   "execution_count": 2,
   "id": "c5aeb76c",
   "metadata": {
    "execution": {
     "iopub.execute_input": "2023-12-18T22:03:51.736582Z",
     "iopub.status.busy": "2023-12-18T22:03:51.736188Z",
     "iopub.status.idle": "2023-12-18T22:03:54.196385Z",
     "shell.execute_reply": "2023-12-18T22:03:54.195529Z"
    },
    "papermill": {
     "duration": 2.4699,
     "end_time": "2023-12-18T22:03:54.198657",
     "exception": false,
     "start_time": "2023-12-18T22:03:51.728757",
     "status": "completed"
    },
    "tags": []
   },
   "outputs": [],
   "source": [
    "#Loading data\n",
    "df = pd.read_csv('/kaggle/input/baldurs-gate-3-steam-reviews/BG3_reviews_updated.csv')"
   ]
  },
  {
   "cell_type": "code",
   "execution_count": 3,
   "id": "d32df5d0",
   "metadata": {
    "execution": {
     "iopub.execute_input": "2023-12-18T22:03:54.213569Z",
     "iopub.status.busy": "2023-12-18T22:03:54.213267Z",
     "iopub.status.idle": "2023-12-18T22:03:54.235464Z",
     "shell.execute_reply": "2023-12-18T22:03:54.234623Z"
    },
    "papermill": {
     "duration": 0.032092,
     "end_time": "2023-12-18T22:03:54.237474",
     "exception": false,
     "start_time": "2023-12-18T22:03:54.205382",
     "status": "completed"
    },
    "tags": []
   },
   "outputs": [
    {
     "data": {
      "text/html": [
       "<div>\n",
       "<style scoped>\n",
       "    .dataframe tbody tr th:only-of-type {\n",
       "        vertical-align: middle;\n",
       "    }\n",
       "\n",
       "    .dataframe tbody tr th {\n",
       "        vertical-align: top;\n",
       "    }\n",
       "\n",
       "    .dataframe thead th {\n",
       "        text-align: right;\n",
       "    }\n",
       "</style>\n",
       "<table border=\"1\" class=\"dataframe\">\n",
       "  <thead>\n",
       "    <tr style=\"text-align: right;\">\n",
       "      <th></th>\n",
       "      <th>recommendationid</th>\n",
       "      <th>language</th>\n",
       "      <th>review</th>\n",
       "      <th>timestamp_created</th>\n",
       "      <th>timestamp_updated</th>\n",
       "      <th>voted_up</th>\n",
       "      <th>votes_up</th>\n",
       "      <th>votes_funny</th>\n",
       "      <th>weighted_vote_score</th>\n",
       "      <th>written_during_early_access</th>\n",
       "      <th>comment_count</th>\n",
       "      <th>steam_purchase</th>\n",
       "      <th>received_for_free</th>\n",
       "    </tr>\n",
       "  </thead>\n",
       "  <tbody>\n",
       "    <tr>\n",
       "      <th>0</th>\n",
       "      <td>153560814</td>\n",
       "      <td>english</td>\n",
       "      <td>This game hits all the right marks. 10/10</td>\n",
       "      <td>1702542971</td>\n",
       "      <td>1702542971</td>\n",
       "      <td>True</td>\n",
       "      <td>0</td>\n",
       "      <td>0</td>\n",
       "      <td>0.0</td>\n",
       "      <td>False</td>\n",
       "      <td>0</td>\n",
       "      <td>True</td>\n",
       "      <td>False</td>\n",
       "    </tr>\n",
       "    <tr>\n",
       "      <th>1</th>\n",
       "      <td>153560623</td>\n",
       "      <td>english</td>\n",
       "      <td>took me like 11 hours to understand the basics</td>\n",
       "      <td>1702542657</td>\n",
       "      <td>1702542657</td>\n",
       "      <td>True</td>\n",
       "      <td>0</td>\n",
       "      <td>0</td>\n",
       "      <td>0.0</td>\n",
       "      <td>False</td>\n",
       "      <td>0</td>\n",
       "      <td>True</td>\n",
       "      <td>False</td>\n",
       "    </tr>\n",
       "    <tr>\n",
       "      <th>2</th>\n",
       "      <td>153560414</td>\n",
       "      <td>english</td>\n",
       "      <td>10/10 game play and story! It's my first turn ...</td>\n",
       "      <td>1702542275</td>\n",
       "      <td>1702542275</td>\n",
       "      <td>True</td>\n",
       "      <td>0</td>\n",
       "      <td>0</td>\n",
       "      <td>0.0</td>\n",
       "      <td>False</td>\n",
       "      <td>0</td>\n",
       "      <td>True</td>\n",
       "      <td>False</td>\n",
       "    </tr>\n",
       "    <tr>\n",
       "      <th>3</th>\n",
       "      <td>153560343</td>\n",
       "      <td>english</td>\n",
       "      <td>gale is so baby girl</td>\n",
       "      <td>1702542158</td>\n",
       "      <td>1702542158</td>\n",
       "      <td>True</td>\n",
       "      <td>0</td>\n",
       "      <td>0</td>\n",
       "      <td>0.0</td>\n",
       "      <td>False</td>\n",
       "      <td>0</td>\n",
       "      <td>True</td>\n",
       "      <td>False</td>\n",
       "    </tr>\n",
       "    <tr>\n",
       "      <th>4</th>\n",
       "      <td>153559963</td>\n",
       "      <td>english</td>\n",
       "      <td>YES,\\n\\nWITHOUT A F****N DOUBT.</td>\n",
       "      <td>1702541518</td>\n",
       "      <td>1702541518</td>\n",
       "      <td>True</td>\n",
       "      <td>0</td>\n",
       "      <td>0</td>\n",
       "      <td>0.0</td>\n",
       "      <td>False</td>\n",
       "      <td>0</td>\n",
       "      <td>True</td>\n",
       "      <td>False</td>\n",
       "    </tr>\n",
       "  </tbody>\n",
       "</table>\n",
       "</div>"
      ],
      "text/plain": [
       "   recommendationid language  \\\n",
       "0         153560814  english   \n",
       "1         153560623  english   \n",
       "2         153560414  english   \n",
       "3         153560343  english   \n",
       "4         153559963  english   \n",
       "\n",
       "                                              review  timestamp_created  \\\n",
       "0          This game hits all the right marks. 10/10         1702542971   \n",
       "1     took me like 11 hours to understand the basics         1702542657   \n",
       "2  10/10 game play and story! It's my first turn ...         1702542275   \n",
       "3                               gale is so baby girl         1702542158   \n",
       "4                    YES,\\n\\nWITHOUT A F****N DOUBT.         1702541518   \n",
       "\n",
       "   timestamp_updated  voted_up  votes_up  votes_funny  weighted_vote_score  \\\n",
       "0         1702542971      True         0            0                  0.0   \n",
       "1         1702542657      True         0            0                  0.0   \n",
       "2         1702542275      True         0            0                  0.0   \n",
       "3         1702542158      True         0            0                  0.0   \n",
       "4         1702541518      True         0            0                  0.0   \n",
       "\n",
       "   written_during_early_access  comment_count  steam_purchase  \\\n",
       "0                        False              0            True   \n",
       "1                        False              0            True   \n",
       "2                        False              0            True   \n",
       "3                        False              0            True   \n",
       "4                        False              0            True   \n",
       "\n",
       "   received_for_free  \n",
       "0              False  \n",
       "1              False  \n",
       "2              False  \n",
       "3              False  \n",
       "4              False  "
      ]
     },
     "execution_count": 3,
     "metadata": {},
     "output_type": "execute_result"
    }
   ],
   "source": [
    "#looking to Data\n",
    "df.head()"
   ]
  },
  {
   "cell_type": "code",
   "execution_count": 4,
   "id": "cbe20dd4",
   "metadata": {
    "execution": {
     "iopub.execute_input": "2023-12-18T22:03:54.252348Z",
     "iopub.status.busy": "2023-12-18T22:03:54.252032Z",
     "iopub.status.idle": "2023-12-18T22:03:54.341651Z",
     "shell.execute_reply": "2023-12-18T22:03:54.340660Z"
    },
    "papermill": {
     "duration": 0.099597,
     "end_time": "2023-12-18T22:03:54.343999",
     "exception": false,
     "start_time": "2023-12-18T22:03:54.244402",
     "status": "completed"
    },
    "tags": []
   },
   "outputs": [
    {
     "name": "stdout",
     "output_type": "stream",
     "text": [
      "<class 'pandas.core.frame.DataFrame'>\n",
      "RangeIndex: 309103 entries, 0 to 309102\n",
      "Data columns (total 13 columns):\n",
      " #   Column                       Non-Null Count   Dtype  \n",
      "---  ------                       --------------   -----  \n",
      " 0   recommendationid             309103 non-null  int64  \n",
      " 1   language                     309103 non-null  object \n",
      " 2   review                       308086 non-null  object \n",
      " 3   timestamp_created            309103 non-null  int64  \n",
      " 4   timestamp_updated            309103 non-null  int64  \n",
      " 5   voted_up                     309103 non-null  bool   \n",
      " 6   votes_up                     309103 non-null  int64  \n",
      " 7   votes_funny                  309103 non-null  int64  \n",
      " 8   weighted_vote_score          309103 non-null  float64\n",
      " 9   written_during_early_access  309103 non-null  bool   \n",
      " 10  comment_count                309103 non-null  int64  \n",
      " 11  steam_purchase               309103 non-null  bool   \n",
      " 12  received_for_free            309103 non-null  bool   \n",
      "dtypes: bool(4), float64(1), int64(6), object(2)\n",
      "memory usage: 22.4+ MB\n"
     ]
    }
   ],
   "source": [
    "df.info()"
   ]
  },
  {
   "cell_type": "code",
   "execution_count": 5,
   "id": "6421644e",
   "metadata": {
    "execution": {
     "iopub.execute_input": "2023-12-18T22:03:54.359239Z",
     "iopub.status.busy": "2023-12-18T22:03:54.358938Z",
     "iopub.status.idle": "2023-12-18T22:03:54.429731Z",
     "shell.execute_reply": "2023-12-18T22:03:54.428824Z"
    },
    "papermill": {
     "duration": 0.080599,
     "end_time": "2023-12-18T22:03:54.431670",
     "exception": false,
     "start_time": "2023-12-18T22:03:54.351071",
     "status": "completed"
    },
    "tags": []
   },
   "outputs": [
    {
     "data": {
      "text/plain": [
       "recommendationid                  0\n",
       "language                          0\n",
       "review                         1017\n",
       "timestamp_created                 0\n",
       "timestamp_updated                 0\n",
       "voted_up                          0\n",
       "votes_up                          0\n",
       "votes_funny                       0\n",
       "weighted_vote_score               0\n",
       "written_during_early_access       0\n",
       "comment_count                     0\n",
       "steam_purchase                    0\n",
       "received_for_free                 0\n",
       "dtype: int64"
      ]
     },
     "execution_count": 5,
     "metadata": {},
     "output_type": "execute_result"
    }
   ],
   "source": [
    "df.isnull().sum()\n"
   ]
  },
  {
   "cell_type": "code",
   "execution_count": 6,
   "id": "9402e7cc",
   "metadata": {
    "execution": {
     "iopub.execute_input": "2023-12-18T22:03:54.446940Z",
     "iopub.status.busy": "2023-12-18T22:03:54.446682Z",
     "iopub.status.idle": "2023-12-18T22:03:54.556896Z",
     "shell.execute_reply": "2023-12-18T22:03:54.556099Z"
    },
    "papermill": {
     "duration": 0.120433,
     "end_time": "2023-12-18T22:03:54.559126",
     "exception": false,
     "start_time": "2023-12-18T22:03:54.438693",
     "status": "completed"
    },
    "tags": []
   },
   "outputs": [],
   "source": [
    "# deleting Null values and resetting index\n",
    "df = df.dropna()\n",
    "df = df.reset_index(drop=True)"
   ]
  },
  {
   "cell_type": "code",
   "execution_count": 7,
   "id": "c4d3f521",
   "metadata": {
    "execution": {
     "iopub.execute_input": "2023-12-18T22:03:54.574849Z",
     "iopub.status.busy": "2023-12-18T22:03:54.574544Z",
     "iopub.status.idle": "2023-12-18T22:03:54.646167Z",
     "shell.execute_reply": "2023-12-18T22:03:54.645246Z"
    },
    "papermill": {
     "duration": 0.081697,
     "end_time": "2023-12-18T22:03:54.648256",
     "exception": false,
     "start_time": "2023-12-18T22:03:54.566559",
     "status": "completed"
    },
    "tags": []
   },
   "outputs": [
    {
     "data": {
      "text/plain": [
       "recommendationid               0\n",
       "language                       0\n",
       "review                         0\n",
       "timestamp_created              0\n",
       "timestamp_updated              0\n",
       "voted_up                       0\n",
       "votes_up                       0\n",
       "votes_funny                    0\n",
       "weighted_vote_score            0\n",
       "written_during_early_access    0\n",
       "comment_count                  0\n",
       "steam_purchase                 0\n",
       "received_for_free              0\n",
       "dtype: int64"
      ]
     },
     "execution_count": 7,
     "metadata": {},
     "output_type": "execute_result"
    }
   ],
   "source": [
    "df.isnull().sum()"
   ]
  },
  {
   "cell_type": "code",
   "execution_count": 8,
   "id": "41ced5dd",
   "metadata": {
    "execution": {
     "iopub.execute_input": "2023-12-18T22:03:54.663952Z",
     "iopub.status.busy": "2023-12-18T22:03:54.663680Z",
     "iopub.status.idle": "2023-12-18T22:03:54.680045Z",
     "shell.execute_reply": "2023-12-18T22:03:54.679104Z"
    },
    "papermill": {
     "duration": 0.026427,
     "end_time": "2023-12-18T22:03:54.682036",
     "exception": false,
     "start_time": "2023-12-18T22:03:54.655609",
     "status": "completed"
    },
    "tags": []
   },
   "outputs": [],
   "source": [
    "# Select a random subset of 10,000 rows\n",
    "subset_df = df.sample(n=2000, random_state=42)\n",
    "\n",
    "# Alternatively, you can select the first 10,000 rows\n",
    "# subset_df = df.head(10000)\n",
    "\n",
    "# Resetting index if needed\n",
    "subset_df.reset_index(drop=True, inplace=True)"
   ]
  },
  {
   "cell_type": "code",
   "execution_count": 9,
   "id": "5b3a992e",
   "metadata": {
    "execution": {
     "iopub.execute_input": "2023-12-18T22:03:54.698459Z",
     "iopub.status.busy": "2023-12-18T22:03:54.697944Z",
     "iopub.status.idle": "2023-12-18T22:03:54.708804Z",
     "shell.execute_reply": "2023-12-18T22:03:54.707885Z"
    },
    "papermill": {
     "duration": 0.021358,
     "end_time": "2023-12-18T22:03:54.711076",
     "exception": false,
     "start_time": "2023-12-18T22:03:54.689718",
     "status": "completed"
    },
    "tags": []
   },
   "outputs": [
    {
     "name": "stdout",
     "output_type": "stream",
     "text": [
      "<class 'pandas.core.frame.DataFrame'>\n",
      "RangeIndex: 2000 entries, 0 to 1999\n",
      "Data columns (total 13 columns):\n",
      " #   Column                       Non-Null Count  Dtype  \n",
      "---  ------                       --------------  -----  \n",
      " 0   recommendationid             2000 non-null   int64  \n",
      " 1   language                     2000 non-null   object \n",
      " 2   review                       2000 non-null   object \n",
      " 3   timestamp_created            2000 non-null   int64  \n",
      " 4   timestamp_updated            2000 non-null   int64  \n",
      " 5   voted_up                     2000 non-null   bool   \n",
      " 6   votes_up                     2000 non-null   int64  \n",
      " 7   votes_funny                  2000 non-null   int64  \n",
      " 8   weighted_vote_score          2000 non-null   float64\n",
      " 9   written_during_early_access  2000 non-null   bool   \n",
      " 10  comment_count                2000 non-null   int64  \n",
      " 11  steam_purchase               2000 non-null   bool   \n",
      " 12  received_for_free            2000 non-null   bool   \n",
      "dtypes: bool(4), float64(1), int64(6), object(2)\n",
      "memory usage: 148.6+ KB\n"
     ]
    }
   ],
   "source": [
    "subset_df.info()"
   ]
  },
  {
   "cell_type": "code",
   "execution_count": 10,
   "id": "6514a010",
   "metadata": {
    "execution": {
     "iopub.execute_input": "2023-12-18T22:03:54.726984Z",
     "iopub.status.busy": "2023-12-18T22:03:54.726425Z",
     "iopub.status.idle": "2023-12-18T22:03:54.732279Z",
     "shell.execute_reply": "2023-12-18T22:03:54.731418Z"
    },
    "papermill": {
     "duration": 0.015856,
     "end_time": "2023-12-18T22:03:54.734232",
     "exception": false,
     "start_time": "2023-12-18T22:03:54.718376",
     "status": "completed"
    },
    "tags": []
   },
   "outputs": [],
   "source": [
    "# text cleaning \n",
    "import re\n",
    "\n",
    "def clean_text(text):\n",
    "    # Convert to string\n",
    "    text = str(text)\n",
    "    # Remove special characters and digits\n",
    "    cleaned_text = re.sub(r'[^a-zA-Z\\s]', '', text)\n",
    "    # Remove extra whitespaces\n",
    "    cleaned_text = re.sub(r'\\s+', ' ', cleaned_text).strip()\n",
    "    # Convert all characters to lowercase\n",
    "    cleaned_text = cleaned_text.lower()\n",
    "    return cleaned_text"
   ]
  },
  {
   "cell_type": "code",
   "execution_count": 11,
   "id": "113d0958",
   "metadata": {
    "execution": {
     "iopub.execute_input": "2023-12-18T22:03:54.749634Z",
     "iopub.status.busy": "2023-12-18T22:03:54.749363Z",
     "iopub.status.idle": "2023-12-18T22:03:54.756246Z",
     "shell.execute_reply": "2023-12-18T22:03:54.755360Z"
    },
    "papermill": {
     "duration": 0.016749,
     "end_time": "2023-12-18T22:03:54.758077",
     "exception": false,
     "start_time": "2023-12-18T22:03:54.741328",
     "status": "completed"
    },
    "tags": []
   },
   "outputs": [
    {
     "data": {
      "text/plain": [
       "0       Sets a new level for CRPG genre. 9.5/10 for me...\n",
       "1                                               100% GOTY\n",
       "2                                       Highly recommend!\n",
       "3       Act 1 of this game is an absolute masterpiece;...\n",
       "4       Yes I can confirm that Baldur does indeed have...\n",
       "                              ...                        \n",
       "1995                                         Jogo do ano!\n",
       "1996                                    best game of 2023\n",
       "1997    This is one of the most difficult games to cov...\n",
       "1998    Graphics are really good, but most importantly...\n",
       "1999    Masterpiece.\\n\\n\\nEdit 22/11/2023\\n\\nStill a M...\n",
       "Name: review, Length: 2000, dtype: object"
      ]
     },
     "execution_count": 11,
     "metadata": {},
     "output_type": "execute_result"
    }
   ],
   "source": [
    "subset_df['review']"
   ]
  },
  {
   "cell_type": "code",
   "execution_count": 12,
   "id": "49dce79b",
   "metadata": {
    "execution": {
     "iopub.execute_input": "2023-12-18T22:03:54.774015Z",
     "iopub.status.busy": "2023-12-18T22:03:54.773750Z",
     "iopub.status.idle": "2023-12-18T22:03:54.779440Z",
     "shell.execute_reply": "2023-12-18T22:03:54.778641Z"
    },
    "papermill": {
     "duration": 0.015955,
     "end_time": "2023-12-18T22:03:54.781303",
     "exception": false,
     "start_time": "2023-12-18T22:03:54.765348",
     "status": "completed"
    },
    "tags": []
   },
   "outputs": [
    {
     "data": {
      "text/plain": [
       "1341"
      ]
     },
     "execution_count": 12,
     "metadata": {},
     "output_type": "execute_result"
    }
   ],
   "source": [
    "subset_df['votes_up'].unique().sum()"
   ]
  },
  {
   "cell_type": "code",
   "execution_count": 13,
   "id": "a3f7855d",
   "metadata": {
    "execution": {
     "iopub.execute_input": "2023-12-18T22:03:54.796943Z",
     "iopub.status.busy": "2023-12-18T22:03:54.796672Z",
     "iopub.status.idle": "2023-12-18T22:03:54.853268Z",
     "shell.execute_reply": "2023-12-18T22:03:54.852596Z"
    },
    "papermill": {
     "duration": 0.06663,
     "end_time": "2023-12-18T22:03:54.855217",
     "exception": false,
     "start_time": "2023-12-18T22:03:54.788587",
     "status": "completed"
    },
    "tags": []
   },
   "outputs": [],
   "source": [
    "x = subset_df['review'].apply(lambda x: clean_text(x))"
   ]
  },
  {
   "cell_type": "code",
   "execution_count": 14,
   "id": "7c949a08",
   "metadata": {
    "execution": {
     "iopub.execute_input": "2023-12-18T22:03:54.871117Z",
     "iopub.status.busy": "2023-12-18T22:03:54.870855Z",
     "iopub.status.idle": "2023-12-18T22:03:54.877597Z",
     "shell.execute_reply": "2023-12-18T22:03:54.876781Z"
    },
    "papermill": {
     "duration": 0.016786,
     "end_time": "2023-12-18T22:03:54.879462",
     "exception": false,
     "start_time": "2023-12-18T22:03:54.862676",
     "status": "completed"
    },
    "tags": []
   },
   "outputs": [
    {
     "data": {
      "text/plain": [
       "0       sets a new level for crpg genre for me even th...\n",
       "1                                                    goty\n",
       "2                                        highly recommend\n",
       "3       act of this game is an absolute masterpiece ch...\n",
       "4       yes i can confirm that baldur does indeed have...\n",
       "                              ...                        \n",
       "1995                                          jogo do ano\n",
       "1996                                         best game of\n",
       "1997    this is one of the most difficult games to cov...\n",
       "1998    graphics are really good but most importantly ...\n",
       "1999                 masterpiece edit still a masterpiece\n",
       "Name: review, Length: 2000, dtype: object"
      ]
     },
     "execution_count": 14,
     "metadata": {},
     "output_type": "execute_result"
    }
   ],
   "source": [
    "x"
   ]
  },
  {
   "cell_type": "code",
   "execution_count": 15,
   "id": "25e13372",
   "metadata": {
    "execution": {
     "iopub.execute_input": "2023-12-18T22:03:54.895600Z",
     "iopub.status.busy": "2023-12-18T22:03:54.895350Z",
     "iopub.status.idle": "2023-12-18T22:03:54.901136Z",
     "shell.execute_reply": "2023-12-18T22:03:54.900389Z"
    },
    "papermill": {
     "duration": 0.015965,
     "end_time": "2023-12-18T22:03:54.903000",
     "exception": false,
     "start_time": "2023-12-18T22:03:54.887035",
     "status": "completed"
    },
    "tags": []
   },
   "outputs": [],
   "source": [
    "import numpy as np\n",
    "y, label= pd.factorize(subset_df['votes_up'])\n",
    "\n",
    "unique_values = np.unique(y)\n",
    "num_unique_values = len(unique_values)"
   ]
  },
  {
   "cell_type": "code",
   "execution_count": 16,
   "id": "372e171a",
   "metadata": {
    "execution": {
     "iopub.execute_input": "2023-12-18T22:03:54.919479Z",
     "iopub.status.busy": "2023-12-18T22:03:54.919228Z",
     "iopub.status.idle": "2023-12-18T22:03:55.778187Z",
     "shell.execute_reply": "2023-12-18T22:03:55.777220Z"
    },
    "papermill": {
     "duration": 0.869611,
     "end_time": "2023-12-18T22:03:55.780571",
     "exception": false,
     "start_time": "2023-12-18T22:03:54.910960",
     "status": "completed"
    },
    "tags": []
   },
   "outputs": [
    {
     "name": "stderr",
     "output_type": "stream",
     "text": [
      "/opt/conda/lib/python3.10/site-packages/scipy/__init__.py:146: UserWarning: A NumPy version >=1.16.5 and <1.23.0 is required for this version of SciPy (detected version 1.24.3\n",
      "  warnings.warn(f\"A NumPy version >={np_minversion} and <{np_maxversion}\"\n"
     ]
    }
   ],
   "source": [
    "# Import the train_test_split function from scikit-learn\n",
    "from sklearn.model_selection import train_test_split\n",
    "\n",
    "# Split the data into training and testing sets\n",
    "# test_size=0.2 means that 20% of the data will be used for testing, and 80% for training\n",
    "# random_state=42 ensures reproducibility of the split\n",
    "x_train, x_test, y_train, y_test = train_test_split(x, y, test_size=0.2, random_state=42)"
   ]
  },
  {
   "cell_type": "code",
   "execution_count": 17,
   "id": "ec3a86fe",
   "metadata": {
    "execution": {
     "iopub.execute_input": "2023-12-18T22:03:55.797986Z",
     "iopub.status.busy": "2023-12-18T22:03:55.797455Z",
     "iopub.status.idle": "2023-12-18T22:04:07.026542Z",
     "shell.execute_reply": "2023-12-18T22:04:07.025664Z"
    },
    "papermill": {
     "duration": 11.2403,
     "end_time": "2023-12-18T22:04:07.028860",
     "exception": false,
     "start_time": "2023-12-18T22:03:55.788560",
     "status": "completed"
    },
    "tags": []
   },
   "outputs": [],
   "source": [
    "# Import the Tokenizer class from Keras\n",
    "from keras.preprocessing.text import Tokenizer\n",
    "\n",
    "# Initialize the tokenizer\n",
    "tokenizer = Tokenizer()\n",
    "\n",
    "# Build the vocabulary based on the training dataset\n",
    "tokenizer.fit_on_texts(x_train)\n",
    "\n",
    "# Tokenize the training and test datasets\n",
    "x_train = tokenizer.texts_to_sequences(x_train)\n",
    "x_test = tokenizer.texts_to_sequences(x_test)\n",
    "\n",
    "# Vocabulary size (number of unique words) -> will be used in the embedding layer\n",
    "vocab_size = len(tokenizer.word_index) + 1"
   ]
  },
  {
   "cell_type": "code",
   "execution_count": 18,
   "id": "cc05a279",
   "metadata": {
    "execution": {
     "iopub.execute_input": "2023-12-18T22:04:07.047124Z",
     "iopub.status.busy": "2023-12-18T22:04:07.046057Z",
     "iopub.status.idle": "2023-12-18T22:04:07.066736Z",
     "shell.execute_reply": "2023-12-18T22:04:07.065905Z"
    },
    "papermill": {
     "duration": 0.031615,
     "end_time": "2023-12-18T22:04:07.068862",
     "exception": false,
     "start_time": "2023-12-18T22:04:07.037247",
     "status": "completed"
    },
    "tags": []
   },
   "outputs": [
    {
     "name": "stdout",
     "output_type": "stream",
     "text": [
      "An outlier detected: [87, 4, 132, 6, 107, 62, 62, 62, 2310, 47, 25, 102, 76, 70, 41, 853, 10, 3, 236, 57, 38, 324, 15, 4, 59, 834, 9, 89, 62, 76, 4, 59, 206, 3, 11, 18, 304, 222, 2201, 29, 5, 70, 13, 14, 246, 20, 564, 518, 11, 1, 355, 132, 18, 24, 34, 499, 193, 10, 429, 4, 4324, 27, 4, 3275, 16, 8, 38, 4, 7, 2832, 757, 14, 17, 30, 769, 87, 5, 109, 10, 4, 313, 59, 93, 1216, 9, 1, 330, 474, 248, 14, 73, 3354, 600, 11, 224, 7, 51, 3918, 777, 1702, 113, 1702, 5, 1352, 981, 24, 69, 11, 262, 754, 413, 5, 215, 5282, 7, 4836, 5, 1140, 4836, 215, 7, 16, 111, 1140, 1859, 741, 1845, 7, 4, 763, 5, 481, 673, 2, 542, 3428, 8, 11, 99, 5130, 600, 21, 76, 2, 1084, 89, 168, 63, 21, 64, 5260, 11, 1, 3, 14, 44, 1, 181, 777, 14, 12, 32, 11, 4, 474, 16, 89, 18, 3654, 532, 14, 48, 8, 644, 104, 30, 7, 95, 2, 14, 1643, 2143, 656, 213, 27, 1, 200, 1767, 14, 97, 5, 611, 185, 165, 20, 96, 600, 5220, 1444, 320, 126, 777, 2, 120, 3229, 217, 12, 1009, 74, 102, 5, 3428, 8, 106, 600, 12, 32, 138, 11, 2, 5133, 47, 95, 60, 7, 1, 600, 21, 64, 62, 286, 133, 52, 2349, 862, 4, 140, 100, 5, 106, 600, 2, 233, 784, 268, 480, 1747, 1356, 8, 30, 74, 45, 241, 600, 21, 4, 718, 7, 4, 129, 7, 59, 1574, 1981, 2, 114, 483, 41, 14, 1199, 222, 6, 483, 361, 57, 19, 214, 149, 1778, 90, 60, 7, 95, 2, 233, 313, 80, 66, 12, 455, 60, 214, 22, 60, 7, 1, 92, 214, 60, 7, 1, 92, 214, 2, 246, 4, 2258, 2, 633, 671, 3292, 45, 808, 14, 38, 25, 35, 16, 1657, 197, 173, 214, 89, 17, 232, 319, 2, 2338, 238, 10, 3, 20, 140, 40, 89, 1644, 11, 95, 363, 40, 631, 74, 7, 94, 11, 10, 202, 843, 1, 153, 236, 7, 10, 3, 41, 53, 2310, 35, 6, 38, 53, 53, 75, 680, 146, 5, 8, 25, 185, 141, 16, 40, 53, 775, 6, 183, 10, 3, 41, 431, 853, 364, 236, 2, 40, 53, 5, 29, 1, 110, 453, 47, 58, 67, 27, 10, 3, 30, 1, 112, 997, 64, 1871, 10, 377, 80, 66, 18, 156, 198, 306, 15, 4, 2153, 4420, 206, 59, 151, 1, 189, 1698, 99, 211, 103, 123, 96, 4300, 2018, 11, 1, 99, 248, 5, 109, 8, 639, 2, 1735, 18, 103, 123, 302, 5, 1, 621, 2, 3, 192, 5, 387, 720, 1, 670, 600, 217, 184, 74, 71, 1, 645, 574, 8, 404, 215, 4, 145, 5, 640, 57, 174, 21, 16, 217, 12, 48, 12, 2620, 25, 102, 216, 54, 2, 484, 628, 71, 10, 3, 1698, 214, 349, 1837, 200, 35, 61, 1, 10, 9, 4, 202, 16, 120, 211, 216, 5, 2139, 1698, 3, 29, 2, 137, 7, 1, 3, 211, 375, 5, 48, 6, 338, 77, 166, 45, 2627, 5, 48, 95, 211, 77, 45, 847, 14, 175, 375, 17, 5, 26, 210, 14, 211, 139, 27, 95, 45, 47, 374, 212, 399, 11, 1, 385, 586, 876, 13, 57, 21, 265, 112, 14, 21, 1667, 5, 26, 662, 784, 16, 44, 69, 2088, 1178, 100, 1657, 7, 1, 586, 2, 12, 25, 137, 22, 184, 523, 1645, 385, 133, 18, 1667, 5, 137, 46, 59, 14, 100, 8, 221, 8, 25, 159, 554, 666, 675, 2, 1301, 4, 847, 14, 1, 559, 170, 223, 10, 402, 172, 252, 2247, 57, 238, 4, 23, 1274, 4, 23, 1274, 2, 57, 238, 23, 391, 23, 391, 1698, 245, 10, 9, 43, 84, 101, 3, 16, 1112, 4, 9, 210, 27, 8, 6, 98, 108, 102, 8, 32, 26, 369, 354, 211, 125, 163, 21, 554, 2, 265, 764, 375, 16, 233, 57, 1098, 11, 84, 101, 2, 233, 1, 362, 7, 193, 14, 44, 1016, 26, 369, 47, 1623, 141, 10, 377, 75, 1, 125, 211, 123, 96, 4017, 2018, 11, 1, 3, 837, 1, 14, 796, 12, 5, 1964, 51, 100, 117, 4, 425, 7, 2162, 600, 16, 120, 2463, 889, 31, 12, 48, 4, 157, 46, 51, 214, 21, 25, 63, 52, 7, 19, 814, 6, 291, 172, 361, 52, 3934, 7, 19, 814, 8, 338, 22, 244, 27, 766, 52, 2662, 45, 7, 35, 198, 202, 1922, 1306, 71, 1, 80, 66, 333, 8, 159, 2, 1027, 103, 123, 76, 22, 4, 156, 198, 306, 3, 4, 333, 6, 97, 5, 1313, 282, 5, 29, 5, 340, 2, 716, 56, 138, 887, 15, 77, 847, 14, 10, 9, 4, 80, 66, 3, 99, 99, 9, 2153, 15, 4, 773, 153, 248, 1337, 80, 66, 165, 12, 121, 796, 1, 943, 5, 269, 275, 12, 359, 5, 1354, 5, 398, 126, 2, 77, 981, 5, 796, 4, 81, 5, 1856, 124, 571, 1, 303, 1594, 9, 4, 99, 248, 14, 836, 13, 77, 1038, 335, 7, 759, 473, 94, 5, 3459, 2, 215, 213, 5260, 11, 4, 474, 133, 7, 10, 3779, 5, 4579, 4, 23, 99, 248, 99, 2463, 688, 1257, 1592, 858, 87, 51, 94, 11, 664, 7, 5125, 154, 743, 11, 99, 1, 2478, 9, 14, 1, 5, 1856, 943, 1906, 14, 1, 81, 2450, 153, 8, 557, 9, 103, 123, 351, 886, 87, 693, 584, 727, 11, 4, 1634, 165, 52, 98, 82, 2, 409, 124, 153, 10, 9, 256, 313, 7, 15, 2, 34, 81, 1706, 441, 826, 9, 1056, 31, 4, 4201, 18, 104, 2061, 2, 6, 172, 149, 14, 38, 353, 826, 5, 441, 12, 907, 608, 3852, 826, 5, 441, 71, 5400, 349, 354, 12, 2141, 119, 1300, 441, 14, 683, 2, 4836, 349, 102, 121, 6, 828, 841, 15, 962, 2432, 2376, 27, 1128, 52, 629, 5, 17, 410, 584, 5, 1301, 789, 10, 37, 16, 48, 383, 2170, 789, 2432, 4836, 5, 481, 12, 67, 77, 1042, 336, 70, 9, 27, 10, 1042, 4, 216, 2432, 1128, 9, 49, 10, 377, 14, 1747, 7, 4161, 480, 11, 27, 789, 72, 12, 2593, 1, 804, 14, 1747, 7, 4161, 64, 377, 27, 789, 223, 60, 4985, 2362, 63, 2, 2766, 1, 15, 789, 1, 5347, 7, 529, 18, 27, 789, 57, 48, 12, 495, 14, 221, 109, 847, 789, 789, 789, 13, 1, 789, 501, 39, 2, 918, 1790, 11, 2, 6, 3556, 20, 103, 77, 1007, 5, 227, 645, 3378, 14, 6, 1040, 5, 138, 5, 45, 87, 39, 1333, 794, 113, 19, 94, 294, 14, 44, 597, 456, 27, 11, 1, 3, 16, 222, 89, 10, 3, 159, 22, 4, 3439, 85, 165, 1, 73, 3729, 9, 5, 2164, 1, 303, 7, 1, 713, 804, 5, 1600, 1, 316, 34, 11, 4, 1301, 94, 662, 228, 83, 179, 81, 9, 4, 56, 185, 12, 227, 742, 5, 95, 12, 131, 564, 316, 2595, 336, 21, 12, 234, 133, 40, 4, 233, 91, 773, 5, 26, 234, 349, 90, 994, 57, 48, 12, 48, 6, 48, 112, 284, 405, 284, 4, 196, 140, 4, 196, 345, 1979, 25, 1, 4904, 20, 57, 21, 12, 22, 12, 131, 31, 4, 730, 349, 40, 4, 16, 12, 409, 17, 60, 319, 5, 12, 1979, 436, 319, 104, 4, 90, 994, 5, 1, 179, 248, 51, 179, 5, 570, 172, 1413, 28, 18, 23, 45, 228, 32, 73, 5016, 14, 1, 1459, 7, 41, 441, 234, 31, 90, 92, 112, 1337, 4, 129, 7, 84, 101, 33, 10, 53, 9, 43, 84, 101, 3, 383, 125, 383, 4397, 40, 23, 15, 30, 7, 14, 8, 833, 18, 84, 101, 2, 113, 1, 3, 9, 11, 84]\n"
     ]
    }
   ],
   "source": [
    "# Import the pad_sequences function from Keras\n",
    "from keras.preprocessing.sequence import pad_sequences\n",
    "\n",
    "# Find the maximum length of sequences in the training set\n",
    "max_length = max(len(seq) for seq in x_train)\n",
    "\n",
    "# Check for outliers in the test set and print any sequences that exceed the maximum length\n",
    "for x in x_test:\n",
    "    if len(x) > max_length:\n",
    "        print(f\"An outlier detected: {x}\")\n",
    "\n",
    "# Pad sequences to have a uniform length (max_length)\n",
    "x_train = pad_sequences(x_train, maxlen=max_length)\n",
    "x_test = pad_sequences(x_test, maxlen=max_length)"
   ]
  },
  {
   "cell_type": "code",
   "execution_count": 19,
   "id": "b79e88c2",
   "metadata": {
    "execution": {
     "iopub.execute_input": "2023-12-18T22:04:07.085868Z",
     "iopub.status.busy": "2023-12-18T22:04:07.085589Z",
     "iopub.status.idle": "2023-12-18T22:04:07.090541Z",
     "shell.execute_reply": "2023-12-18T22:04:07.089810Z"
    },
    "papermill": {
     "duration": 0.015555,
     "end_time": "2023-12-18T22:04:07.092389",
     "exception": false,
     "start_time": "2023-12-18T22:04:07.076834",
     "status": "completed"
    },
    "tags": []
   },
   "outputs": [],
   "source": [
    "# Import the to_categorical function from Keras utils\n",
    "from keras.utils import to_categorical\n",
    "\n",
    "# Convert the categorical labels to one-hot encoded format for both training and testing sets\n",
    "# 'num_classes=num_unique_values' indicates the number of classes in the classification task\n",
    "y_test = to_categorical(y_test, num_classes=num_unique_values)\n",
    "y_train = to_categorical(y_train, num_classes=num_unique_values)"
   ]
  },
  {
   "cell_type": "code",
   "execution_count": 20,
   "id": "0c18d878",
   "metadata": {
    "execution": {
     "iopub.execute_input": "2023-12-18T22:04:07.109479Z",
     "iopub.status.busy": "2023-12-18T22:04:07.108915Z",
     "iopub.status.idle": "2023-12-18T22:04:10.223890Z",
     "shell.execute_reply": "2023-12-18T22:04:10.222511Z"
    },
    "papermill": {
     "duration": 3.132623,
     "end_time": "2023-12-18T22:04:10.232827",
     "exception": false,
     "start_time": "2023-12-18T22:04:07.100204",
     "status": "completed"
    },
    "tags": []
   },
   "outputs": [
    {
     "name": "stdout",
     "output_type": "stream",
     "text": [
      "Model: \"sequential\"\n",
      "_________________________________________________________________\n",
      " Layer (type)                Output Shape              Param #   \n",
      "=================================================================\n",
      " embedding (Embedding)       (None, 1214, 3)           16539     \n",
      "                                                                 \n",
      " lstm (LSTM)                 (None, 32)                4608      \n",
      "                                                                 \n",
      " dropout (Dropout)           (None, 32)                0         \n",
      "                                                                 \n",
      " dense (Dense)               (None, 64)                2112      \n",
      "                                                                 \n",
      " dropout_1 (Dropout)         (None, 64)                0         \n",
      "                                                                 \n",
      " dense_1 (Dense)             (None, 19)                1235      \n",
      "                                                                 \n",
      "=================================================================\n",
      "Total params: 24494 (95.68 KB)\n",
      "Trainable params: 24494 (95.68 KB)\n",
      "Non-trainable params: 0 (0.00 Byte)\n",
      "_________________________________________________________________\n"
     ]
    }
   ],
   "source": [
    "from keras import backend as K\n",
    "from keras.models import Sequential\n",
    "from keras.layers import Embedding\n",
    "from keras.layers import LSTM\n",
    "from keras.layers import Dropout\n",
    "from keras.layers import Dense\n",
    "\n",
    "\n",
    "# Simple recall function\n",
    "def recall(y_true, y_pred):\n",
    "    true_pos = K.sum(K.round(y_true * y_pred))\n",
    "    pos_labels = K.sum(K.round(y_true))\n",
    "    recall = true_pos / (pos_labels + K.epsilon())\n",
    "    return recall\n",
    "\n",
    "# Simple precision function\n",
    "def precision(y_true, y_pred):\n",
    "    true_pos = K.sum(K.round(y_true * y_pred))\n",
    "    pred_pos = K.sum(K.round(y_pred))\n",
    "    precision = true_pos / (pred_pos + K.epsilon())\n",
    "    return precision\n",
    "\n",
    "# Simple F1 score function using the above functions\n",
    "def f1(y_true, y_pred):\n",
    "    precisions = precision(y_true, y_pred)\n",
    "    recalls = recall(y_true, y_pred)\n",
    "    return 2 * (precisions * recalls) / (precisions + recalls + K.epsilon())\n",
    "\n",
    "# Define output dimension\n",
    "output_dim = 3\n",
    "\n",
    "# Create LSTM model architecture (CNN + LSTM)\n",
    "model = Sequential([\n",
    "    Embedding(vocab_size, output_dim, input_length=max_length),\n",
    "    LSTM(32, dropout=0.3, recurrent_dropout=0.3),\n",
    "    Dropout(0.5),\n",
    "    Dense(64, activation=\"relu\"),\n",
    "    Dropout(0.5),\n",
    "    Dense(num_unique_values, activation=\"softmax\"),\n",
    "])\n",
    "\n",
    "# Compile the model with specified metrics\n",
    "model.compile(optimizer='adam', loss='categorical_crossentropy', metrics=['accuracy', f1, precision, recall])\n",
    "\n",
    "# checking the model parameters\n",
    "model.summary()"
   ]
  },
  {
   "cell_type": "code",
   "execution_count": 21,
   "id": "4c7f219c",
   "metadata": {
    "execution": {
     "iopub.execute_input": "2023-12-18T22:04:10.253455Z",
     "iopub.status.busy": "2023-12-18T22:04:10.253150Z",
     "iopub.status.idle": "2023-12-18T22:21:49.083158Z",
     "shell.execute_reply": "2023-12-18T22:21:49.082047Z"
    },
    "papermill": {
     "duration": 1058.896541,
     "end_time": "2023-12-18T22:21:49.139128",
     "exception": false,
     "start_time": "2023-12-18T22:04:10.242587",
     "status": "completed"
    },
    "tags": []
   },
   "outputs": [
    {
     "name": "stdout",
     "output_type": "stream",
     "text": [
      "Epoch 1/10\n",
      "50/50 [==============================] - 113s 2s/step - loss: 1.9097 - accuracy: 0.7119 - f1: 0.3293 - precision: 0.3886 - recall: 0.3056 - val_loss: 0.9467 - val_accuracy: 0.7250 - val_f1: 0.7236 - val_precision: 0.7236 - val_recall: 0.7236\n",
      "Epoch 2/10\n",
      "50/50 [==============================] - 106s 2s/step - loss: 1.0640 - accuracy: 0.7156 - f1: 0.6642 - precision: 0.7258 - recall: 0.6137 - val_loss: 0.8911 - val_accuracy: 0.7250 - val_f1: 0.7236 - val_precision: 0.7236 - val_recall: 0.7236\n",
      "Epoch 3/10\n",
      "50/50 [==============================] - 106s 2s/step - loss: 1.0109 - accuracy: 0.7325 - f1: 0.6947 - precision: 0.7405 - recall: 0.6556 - val_loss: 0.8801 - val_accuracy: 0.7250 - val_f1: 0.7236 - val_precision: 0.7236 - val_recall: 0.7236\n",
      "Epoch 4/10\n",
      "50/50 [==============================] - 107s 2s/step - loss: 0.9716 - accuracy: 0.7362 - f1: 0.7036 - precision: 0.7432 - recall: 0.6694 - val_loss: 0.8817 - val_accuracy: 0.7250 - val_f1: 0.7236 - val_precision: 0.7236 - val_recall: 0.7236\n",
      "Epoch 5/10\n",
      "50/50 [==============================] - 104s 2s/step - loss: 0.9619 - accuracy: 0.7375 - f1: 0.7098 - precision: 0.7381 - recall: 0.6844 - val_loss: 0.8764 - val_accuracy: 0.7250 - val_f1: 0.7236 - val_precision: 0.7236 - val_recall: 0.7236\n",
      "Epoch 6/10\n",
      "50/50 [==============================] - 104s 2s/step - loss: 0.9407 - accuracy: 0.7375 - f1: 0.7123 - precision: 0.7392 - recall: 0.6888 - val_loss: 0.8764 - val_accuracy: 0.7250 - val_f1: 0.7236 - val_precision: 0.7236 - val_recall: 0.7236\n",
      "Epoch 7/10\n",
      "50/50 [==============================] - 109s 2s/step - loss: 0.9079 - accuracy: 0.7381 - f1: 0.7200 - precision: 0.7442 - recall: 0.6981 - val_loss: 0.8836 - val_accuracy: 0.7250 - val_f1: 0.7236 - val_precision: 0.7236 - val_recall: 0.7236\n",
      "Epoch 8/10\n",
      "50/50 [==============================] - 104s 2s/step - loss: 0.8936 - accuracy: 0.7381 - f1: 0.7285 - precision: 0.7613 - recall: 0.7000 - val_loss: 0.8904 - val_accuracy: 0.7250 - val_f1: 0.7219 - val_precision: 0.7226 - val_recall: 0.7212\n",
      "Epoch 9/10\n",
      "50/50 [==============================] - 103s 2s/step - loss: 0.8712 - accuracy: 0.7381 - f1: 0.7341 - precision: 0.7672 - recall: 0.7056 - val_loss: 0.9135 - val_accuracy: 0.7250 - val_f1: 0.6942 - val_precision: 0.7350 - val_recall: 0.6587\n",
      "Epoch 10/10\n",
      "50/50 [==============================] - 102s 2s/step - loss: 0.8516 - accuracy: 0.7381 - f1: 0.7383 - precision: 0.7800 - recall: 0.7025 - val_loss: 0.9003 - val_accuracy: 0.7250 - val_f1: 0.7200 - val_precision: 0.7291 - val_recall: 0.7115\n"
     ]
    }
   ],
   "source": [
    "# Train the model\n",
    "model_history = model.fit(\n",
    "    x_train,\n",
    "    y_train,\n",
    "    batch_size = 32,\n",
    "    epochs=10,\n",
    "    validation_data=(x_test, y_test)\n",
    ")"
   ]
  },
  {
   "cell_type": "code",
   "execution_count": 22,
   "id": "bce92b7a",
   "metadata": {
    "execution": {
     "iopub.execute_input": "2023-12-18T22:21:49.244882Z",
     "iopub.status.busy": "2023-12-18T22:21:49.243977Z",
     "iopub.status.idle": "2023-12-18T22:21:49.585486Z",
     "shell.execute_reply": "2023-12-18T22:21:49.584359Z"
    },
    "papermill": {
     "duration": 0.39516,
     "end_time": "2023-12-18T22:21:49.587795",
     "exception": false,
     "start_time": "2023-12-18T22:21:49.192635",
     "status": "completed"
    },
    "tags": []
   },
   "outputs": [
    {
     "data": {
      "image/png": "[encoded data removed]",
      "text/plain": [
       "<Figure size 640x480 with 1 Axes>"
      ]
     },
     "metadata": {},
     "output_type": "display_data"
    }
   ],
   "source": [
    "import matplotlib.pyplot as plt\n",
    "\n",
    "# Access the training history of the model\n",
    "hist = model.history.history\n",
    "\n",
    "# Plot training loss in red and validation loss in green\n",
    "plt.plot(hist['loss'], 'r', linewidth=2, label='Training loss')\n",
    "plt.plot(hist['val_loss'], 'g', linewidth=2, label='Validation loss')\n",
    "\n",
    "# Set plot title and labels\n",
    "plt.title('Baldurs gate 3 Review to like count prediction')\n",
    "plt.xlabel('Epochs')\n",
    "plt.ylabel('Mean Squared Error (MSE)')\n",
    "\n",
    "# Display legend\n",
    "plt.legend()\n",
    "\n",
    "# Show the plot\n",
    "plt.show()"
   ]
  },
  {
   "cell_type": "code",
   "execution_count": 23,
   "id": "dd3b55fd",
   "metadata": {
    "execution": {
     "iopub.execute_input": "2023-12-18T22:21:49.700043Z",
     "iopub.status.busy": "2023-12-18T22:21:49.699698Z",
     "iopub.status.idle": "2023-12-18T22:21:50.338990Z",
     "shell.execute_reply": "2023-12-18T22:21:50.338030Z"
    },
    "papermill": {
     "duration": 0.696663,
     "end_time": "2023-12-18T22:21:50.340858",
     "exception": false,
     "start_time": "2023-12-18T22:21:49.644195",
     "status": "completed"
    },
    "tags": []
   },
   "outputs": [
    {
     "name": "stdout",
     "output_type": "stream",
     "text": [
      "1/1 [==============================] - 1s 586ms/step\n",
      "Predicted class: 0\n"
     ]
    }
   ],
   "source": [
    "# Assume user_input is a string provided by the user\n",
    "user_input = \"Your text here\"\n",
    "\n",
    "# Preprocess the user input\n",
    "# ... (perform the same preprocessing as we did for the training data)\n",
    "input_sequence = tokenizer.texts_to_sequences([user_input])\n",
    "padded_input = pad_sequences(input_sequence, maxlen=max_length)\n",
    "# Make predictions\n",
    "predictions = model.predict(padded_input)\n",
    "\n",
    "# Interpret the results (assuming a classification problem)\n",
    "predicted_class = np.argmax(predictions)# Print or use the predicted class\n",
    "\n",
    "print(f\"Predicted class: {predicted_class}\")"
   ]
  }
 ],
 "metadata": {
  "kaggle": {
   "accelerator": "gpu",
   "dataSources": [
    {
     "datasetId": 4174717,
     "sourceId": 7214521,
     "sourceType": "datasetVersion"
    }
   ],
   "dockerImageVersionId": 30627,
   "isGpuEnabled": true,
   "isInternetEnabled": true,
   "language": "python",
   "sourceType": "notebook"
  },
  "kernelspec": {
   "display_name": "Python 3",
   "language": "python",
   "name": "python3"
  },
  "language_info": {
   "codemirror_mode": {
    "name": "ipython",
    "version": 3
   },
   "file_extension": ".py",
   "mimetype": "text/x-python",
   "name": "python",
   "nbconvert_exporter": "python",
   "pygments_lexer": "ipython3",
   "version": "3.10.12"
  },
  "papermill": {
   "default_parameters": {},
   "duration": 1085.975136,
   "end_time": "2023-12-18T22:21:53.698812",
   "environment_variables": {},
   "exception": null,
   "input_path": "__notebook__.ipynb",
   "output_path": "__notebook__.ipynb",
   "parameters": {},
   "start_time": "2023-12-18T22:03:47.723676",
   "version": "2.4.0"
  }
 },
 "nbformat": 4,
 "nbformat_minor": 5
}
