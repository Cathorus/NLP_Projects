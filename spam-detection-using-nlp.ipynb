{
 "cells": [
  {
   "cell_type": "markdown",
   "id": "a7399fba",
   "metadata": {
    "papermill": {
     "duration": 0.007926,
     "end_time": "2023-08-09T14:24:18.174158",
     "exception": false,
     "start_time": "2023-08-09T14:24:18.166232",
     "status": "completed"
    },
    "tags": []
   },
   "source": [
    "1. [Loading and preparing data](#1)\n",
    "1. [Stemming and Training](#2)\n",
    "1. [Build The Model](#3)\n",
    "1. [Test The Model](#4)\n",
    "1. [Model Evaluation](#5)"
   ]
  },
  {
   "cell_type": "markdown",
   "id": "60eff1fd",
   "metadata": {
    "papermill": {
     "duration": 0.006963,
     "end_time": "2023-08-09T14:24:18.188657",
     "exception": false,
     "start_time": "2023-08-09T14:24:18.181694",
     "status": "completed"
    },
    "tags": []
   },
   "source": [
    "<a id='1'></a>\n",
    "# 1.Loading and preparing Data"
   ]
  },
  {
   "cell_type": "code",
   "execution_count": 1,
   "id": "89702e9a",
   "metadata": {
    "_cell_guid": "b1076dfc-b9ad-4769-8c92-a6c4dae69d19",
    "_uuid": "8f2839f25d086af736a60e9eeb907d3b93b6e0e5",
    "execution": {
     "iopub.execute_input": "2023-08-09T14:24:18.205048Z",
     "iopub.status.busy": "2023-08-09T14:24:18.204640Z",
     "iopub.status.idle": "2023-08-09T14:24:18.229439Z",
     "shell.execute_reply": "2023-08-09T14:24:18.228365Z"
    },
    "papermill": {
     "duration": 0.036084,
     "end_time": "2023-08-09T14:24:18.232106",
     "exception": false,
     "start_time": "2023-08-09T14:24:18.196022",
     "status": "completed"
    },
    "tags": []
   },
   "outputs": [
    {
     "name": "stdout",
     "output_type": "stream",
     "text": [
      "/kaggle/input/spam-text-message-classification/SPAM text message 20170820 - Data.csv\n"
     ]
    }
   ],
   "source": [
    "import numpy as np\n",
    "import pandas as pd\n",
    "import os\n",
    "for dirname, _, filenames in os.walk('/kaggle/input'):\n",
    "    for filename in filenames:\n",
    "        print(os.path.join(dirname, filename))\n",
    "# To ignore warnings\n",
    "import warnings\n",
    "warnings.filterwarnings('ignore')"
   ]
  },
  {
   "cell_type": "code",
   "execution_count": 2,
   "id": "f1c25744",
   "metadata": {
    "execution": {
     "iopub.execute_input": "2023-08-09T14:24:18.249155Z",
     "iopub.status.busy": "2023-08-09T14:24:18.248530Z",
     "iopub.status.idle": "2023-08-09T14:24:18.310668Z",
     "shell.execute_reply": "2023-08-09T14:24:18.309202Z"
    },
    "papermill": {
     "duration": 0.073761,
     "end_time": "2023-08-09T14:24:18.313361",
     "exception": false,
     "start_time": "2023-08-09T14:24:18.239600",
     "status": "completed"
    },
    "tags": []
   },
   "outputs": [
    {
     "data": {
      "text/html": [
       "<div>\n",
       "<style scoped>\n",
       "    .dataframe tbody tr th:only-of-type {\n",
       "        vertical-align: middle;\n",
       "    }\n",
       "\n",
       "    .dataframe tbody tr th {\n",
       "        vertical-align: top;\n",
       "    }\n",
       "\n",
       "    .dataframe thead th {\n",
       "        text-align: right;\n",
       "    }\n",
       "</style>\n",
       "<table border=\"1\" class=\"dataframe\">\n",
       "  <thead>\n",
       "    <tr style=\"text-align: right;\">\n",
       "      <th></th>\n",
       "      <th>Category</th>\n",
       "      <th>Message</th>\n",
       "    </tr>\n",
       "  </thead>\n",
       "  <tbody>\n",
       "    <tr>\n",
       "      <th>0</th>\n",
       "      <td>ham</td>\n",
       "      <td>Go until jurong point, crazy.. Available only ...</td>\n",
       "    </tr>\n",
       "    <tr>\n",
       "      <th>1</th>\n",
       "      <td>ham</td>\n",
       "      <td>Ok lar... Joking wif u oni...</td>\n",
       "    </tr>\n",
       "    <tr>\n",
       "      <th>2</th>\n",
       "      <td>spam</td>\n",
       "      <td>Free entry in 2 a wkly comp to win FA Cup fina...</td>\n",
       "    </tr>\n",
       "    <tr>\n",
       "      <th>3</th>\n",
       "      <td>ham</td>\n",
       "      <td>U dun say so early hor... U c already then say...</td>\n",
       "    </tr>\n",
       "    <tr>\n",
       "      <th>4</th>\n",
       "      <td>ham</td>\n",
       "      <td>Nah I don't think he goes to usf, he lives aro...</td>\n",
       "    </tr>\n",
       "  </tbody>\n",
       "</table>\n",
       "</div>"
      ],
      "text/plain": [
       "  Category                                            Message\n",
       "0      ham  Go until jurong point, crazy.. Available only ...\n",
       "1      ham                      Ok lar... Joking wif u oni...\n",
       "2     spam  Free entry in 2 a wkly comp to win FA Cup fina...\n",
       "3      ham  U dun say so early hor... U c already then say...\n",
       "4      ham  Nah I don't think he goes to usf, he lives aro..."
      ]
     },
     "execution_count": 2,
     "metadata": {},
     "output_type": "execute_result"
    }
   ],
   "source": [
    "dataset = pd.read_csv('/kaggle/input/spam-text-message-classification/SPAM text message 20170820 - Data.csv')\n",
    "dataset.head()"
   ]
  },
  {
   "cell_type": "markdown",
   "id": "3e676420",
   "metadata": {
    "papermill": {
     "duration": 0.007856,
     "end_time": "2023-08-09T14:24:18.329175",
     "exception": false,
     "start_time": "2023-08-09T14:24:18.321319",
     "status": "completed"
    },
    "tags": []
   },
   "soutrce": [
    "<a id='2'></a>\n",
    "# Text Preprocessing"
   ]
  },
  {
   "cell_type": "code",
   "execution_count": 3,
   "id": "5402c456",
   "metadata": {
    "execution": {
     "iopub.execute_input": "2023-08-09T14:24:18.347156Z",
     "iopub.status.busy": "2023-08-09T14:24:18.346738Z",
     "iopub.status.idle": "2023-08-09T14:24:20.431801Z",
     "shell.execute_reply": "2023-08-09T14:24:20.430457Z"
    },
    "papermill": {
     "duration": 2.097246,
     "end_time": "2023-08-09T14:24:20.434566",
     "exception": false,
     "start_time": "2023-08-09T14:24:18.337320",
     "status": "completed"
    },
    "tags": []
   },
   "outputs": [
    {
     "name": "stdout",
     "output_type": "stream",
     "text": [
      "[nltk_data] Downloading package stopwords to /usr/share/nltk_data...\n",
      "[nltk_data]   Package stopwords is already up-to-date!\n"
     ]
    },
    {
     "data": {
      "text/plain": [
       "True"
      ]
     },
     "execution_count": 3,
     "metadata": {},
     "output_type": "execute_result"
    }
   ],
   "source": [
    "import re\n",
    "import nltk\n",
    "nltk.download('stopwords')"
   ]
  },
  {
   "cell_type": "code",
   "execution_count": 4,
   "id": "e7a07b0e",
   "metadata": {
    "execution": {
     "iopub.execute_input": "2023-08-09T14:24:20.453142Z",
     "iopub.status.busy": "2023-08-09T14:24:20.452736Z",
     "iopub.status.idle": "2023-08-09T14:24:20.458294Z",
     "shell.execute_reply": "2023-08-09T14:24:20.457322Z"
    },
    "papermill": {
     "duration": 0.017905,
     "end_time": "2023-08-09T14:24:20.460665",
     "exception": false,
     "start_time": "2023-08-09T14:24:20.442760",
     "status": "completed"
    },
    "tags": []
   },
   "outputs": [],
   "source": [
    "from nltk.corpus import stopwords"
   ]
  },
  {
   "cell_type": "code",
   "execution_count": 5,
   "id": "2ecc6f43",
   "metadata": {
    "execution": {
     "iopub.execute_input": "2023-08-09T14:24:20.479205Z",
     "iopub.status.busy": "2023-08-09T14:24:20.478095Z",
     "iopub.status.idle": "2023-08-09T14:24:20.483253Z",
     "shell.execute_reply": "2023-08-09T14:24:20.482019Z"
    },
    "papermill": {
     "duration": 0.017186,
     "end_time": "2023-08-09T14:24:20.485946",
     "exception": false,
     "start_time": "2023-08-09T14:24:20.468760",
     "status": "completed"
    },
    "tags": []
   },
   "outputs": [],
   "source": [
    "from nltk.stem.porter import PorterStemmer\n",
    "ps=PorterStemmer()"
   ]
  },
  {
   "cell_type": "code",
   "execution_count": 6,
   "id": "b51cce02",
   "metadata": {
    "execution": {
     "iopub.execute_input": "2023-08-09T14:24:20.505257Z",
     "iopub.status.busy": "2023-08-09T14:24:20.504839Z",
     "iopub.status.idle": "2023-08-09T14:24:20.515414Z",
     "shell.execute_reply": "2023-08-09T14:24:20.513711Z"
    },
    "papermill": {
     "duration": 0.022568,
     "end_time": "2023-08-09T14:24:20.518096",
     "exception": false,
     "start_time": "2023-08-09T14:24:20.495528",
     "status": "completed"
    },
    "tags": []
   },
   "outputs": [
    {
     "name": "stdout",
     "output_type": "stream",
     "text": [
      "['i', 'me', 'my', 'myself', 'we', 'our', 'ours', 'ourselves', 'you', \"you're\", \"you've\", \"you'll\", \"you'd\", 'your', 'yours', 'yourself', 'yourselves', 'he', 'him', 'his', 'himself', 'she', \"she's\", 'her', 'hers', 'herself', 'it', \"it's\", 'its', 'itself', 'they', 'them', 'their', 'theirs', 'themselves', 'what', 'which', 'who', 'whom', 'this', 'that', \"that'll\", 'these', 'those', 'am', 'is', 'are', 'was', 'were', 'be', 'been', 'being', 'have', 'has', 'had', 'having', 'do', 'does', 'did', 'doing', 'a', 'an', 'the', 'and', 'but', 'if', 'or', 'because', 'as', 'until', 'while', 'of', 'at', 'by', 'for', 'with', 'about', 'against', 'between', 'into', 'through', 'during', 'before', 'after', 'above', 'below', 'to', 'from', 'up', 'down', 'in', 'out', 'on', 'off', 'over', 'under', 'again', 'further', 'then', 'once', 'here', 'there', 'when', 'where', 'why', 'how', 'all', 'any', 'both', 'each', 'few', 'more', 'most', 'other', 'some', 'such', 'no', 'nor', 'not', 'only', 'own', 'same', 'so', 'than', 'too', 'very', 's', 't', 'can', 'will', 'just', 'don', \"don't\", 'should', \"should've\", 'now', 'd', 'll', 'm', 'o', 're', 've', 'y', 'ain', 'aren', \"aren't\", 'couldn', \"couldn't\", 'didn', \"didn't\", 'doesn', \"doesn't\", 'hadn', \"hadn't\", 'hasn', \"hasn't\", 'haven', \"haven't\", 'isn', \"isn't\", 'ma', 'mightn', \"mightn't\", 'mustn', \"mustn't\", 'needn', \"needn't\", 'shan', \"shan't\", 'shouldn', \"shouldn't\", 'wasn', \"wasn't\", 'weren', \"weren't\", 'won', \"won't\", 'wouldn', \"wouldn't\"]\n"
     ]
    }
   ],
   "source": [
    "print(stopwords.words('english'))"
   ]
  },
  {
   "cell_type": "code",
   "execution_count": 7,
   "id": "2c614c4d",
   "metadata": {
    "execution": {
     "iopub.execute_input": "2023-08-09T14:24:20.536342Z",
     "iopub.status.busy": "2023-08-09T14:24:20.535922Z",
     "iopub.status.idle": "2023-08-09T14:24:35.657115Z",
     "shell.execute_reply": "2023-08-09T14:24:35.655889Z"
    },
    "papermill": {
     "duration": 15.133738,
     "end_time": "2023-08-09T14:24:35.660201",
     "exception": false,
     "start_time": "2023-08-09T14:24:20.526463",
     "status": "completed"
    },
    "tags": []
   },
   "outputs": [],
   "source": [
    "corpus = []\n",
    "for i in range(0,len(dataset)):\n",
    "    sent = re.sub('[^a-zA-Z0-9]',' ',dataset['Message'][i])\n",
    "    sent=sent.lower()\n",
    "    sent=sent.split()\n",
    "    sent=[ps.stem(word) for word in sent if not word in stopwords.words('english')]\n",
    "    sent=' '.join(sent)\n",
    "    corpus.append(sent)"
   ]
  },
  {
   "cell_type": "code",
   "execution_count": 8,
   "id": "19ae8267",
   "metadata": {
    "execution": {
     "iopub.execute_input": "2023-08-09T14:24:35.679068Z",
     "iopub.status.busy": "2023-08-09T14:24:35.678686Z",
     "iopub.status.idle": "2023-08-09T14:24:35.693560Z",
     "shell.execute_reply": "2023-08-09T14:24:35.692244Z"
    },
    "papermill": {
     "duration": 0.027344,
     "end_time": "2023-08-09T14:24:35.696272",
     "exception": false,
     "start_time": "2023-08-09T14:24:35.668928",
     "status": "completed"
    },
    "tags": []
   },
   "outputs": [],
   "source": [
    "y=pd.get_dummies(dataset['Category'],drop_first=True)"
   ]
  },
  {
   "cell_type": "markdown",
   "id": "d3ccc43d",
   "metadata": {
    "papermill": {
     "duration": 0.007947,
     "end_time": "2023-08-09T14:24:35.712542",
     "exception": false,
     "start_time": "2023-08-09T14:24:35.704595",
     "status": "completed"
    },
    "tags": []
   },
   "source": [
    "<a id = \"3\"></a><br>\n",
    "# 3.Build The Model"
   ]
  },
  {
   "cell_type": "code",
   "execution_count": 9,
   "id": "7ecd25b0",
   "metadata": {
    "execution": {
     "iopub.execute_input": "2023-08-09T14:24:35.730585Z",
     "iopub.status.busy": "2023-08-09T14:24:35.730114Z",
     "iopub.status.idle": "2023-08-09T14:24:35.742042Z",
     "shell.execute_reply": "2023-08-09T14:24:35.740738Z"
    },
    "papermill": {
     "duration": 0.024538,
     "end_time": "2023-08-09T14:24:35.745168",
     "exception": false,
     "start_time": "2023-08-09T14:24:35.720630",
     "status": "completed"
    },
    "tags": []
   },
   "outputs": [],
   "source": [
    "from sklearn.model_selection import train_test_split\n",
    "X_train, X_test, y_train, y_test = train_test_split(corpus, y, test_size = 0.20, random_state = 42)"
   ]
  },
  {
   "cell_type": "code",
   "execution_count": 10,
   "id": "b4f0b218",
   "metadata": {
    "execution": {
     "iopub.execute_input": "2023-08-09T14:24:35.764855Z",
     "iopub.status.busy": "2023-08-09T14:24:35.764161Z",
     "iopub.status.idle": "2023-08-09T14:24:36.104289Z",
     "shell.execute_reply": "2023-08-09T14:24:36.102715Z"
    },
    "papermill": {
     "duration": 0.354987,
     "end_time": "2023-08-09T14:24:36.108756",
     "exception": false,
     "start_time": "2023-08-09T14:24:35.753769",
     "status": "completed"
    },
    "tags": []
   },
   "outputs": [],
   "source": [
    "from sklearn.feature_extraction.text import CountVectorizer\n",
    "cv=CountVectorizer(max_features=2500,ngram_range=(1,2))\n",
    "X_train=cv.fit_transform(X_train).toarray()"
   ]
  },
  {
   "cell_type": "markdown",
   "id": "49ef228e",
   "metadata": {
    "papermill": {
     "duration": 0.008146,
     "end_time": "2023-08-09T14:24:36.126588",
     "exception": false,
     "start_time": "2023-08-09T14:24:36.118442",
     "status": "completed"
    },
    "tags": []
   },
   "source": [
    "<a id = \"4\"></a><br>\n",
    "# 4.Test the Model"
   ]
  },
  {
   "cell_type": "code",
   "execution_count": 11,
   "id": "64d97bb6",
   "metadata": {
    "execution": {
     "iopub.execute_input": "2023-08-09T14:24:36.148840Z",
     "iopub.status.busy": "2023-08-09T14:24:36.148409Z",
     "iopub.status.idle": "2023-08-09T14:24:36.206848Z",
     "shell.execute_reply": "2023-08-09T14:24:36.205434Z"
    },
    "papermill": {
     "duration": 0.073741,
     "end_time": "2023-08-09T14:24:36.210074",
     "exception": false,
     "start_time": "2023-08-09T14:24:36.136333",
     "status": "completed"
    },
    "tags": []
   },
   "outputs": [],
   "source": [
    "X_test=cv.transform(X_test).toarray()"
   ]
  },
  {
   "cell_type": "code",
   "execution_count": 12,
   "id": "33ed2629",
   "metadata": {
    "execution": {
     "iopub.execute_input": "2023-08-09T14:24:36.230456Z",
     "iopub.status.busy": "2023-08-09T14:24:36.229994Z",
     "iopub.status.idle": "2023-08-09T14:24:47.556668Z",
     "shell.execute_reply": "2023-08-09T14:24:47.555532Z"
    },
    "papermill": {
     "duration": 11.340478,
     "end_time": "2023-08-09T14:24:47.559639",
     "exception": false,
     "start_time": "2023-08-09T14:24:36.219161",
     "status": "completed"
    },
    "tags": []
   },
   "outputs": [],
   "source": [
    "from sklearn.ensemble import RandomForestClassifier\n",
    "classifier=RandomForestClassifier().fit(X_train,y_train)"
   ]
  },
  {
   "cell_type": "code",
   "execution_count": 13,
   "id": "e4923870",
   "metadata": {
    "execution": {
     "iopub.execute_input": "2023-08-09T14:24:47.578372Z",
     "iopub.status.busy": "2023-08-09T14:24:47.577531Z",
     "iopub.status.idle": "2023-08-09T14:24:47.693988Z",
     "shell.execute_reply": "2023-08-09T14:24:47.692746Z"
    },
    "papermill": {
     "duration": 0.129038,
     "end_time": "2023-08-09T14:24:47.696932",
     "exception": false,
     "start_time": "2023-08-09T14:24:47.567894",
     "status": "completed"
    },
    "tags": []
   },
   "outputs": [],
   "source": [
    "y_pred=classifier.predict(X_test)"
   ]
  },
  {
   "cell_type": "code",
   "execution_count": 14,
   "id": "7b364ff7",
   "metadata": {
    "execution": {
     "iopub.execute_input": "2023-08-09T14:24:47.715964Z",
     "iopub.status.busy": "2023-08-09T14:24:47.715572Z",
     "iopub.status.idle": "2023-08-09T14:24:47.720799Z",
     "shell.execute_reply": "2023-08-09T14:24:47.719540Z"
    },
    "papermill": {
     "duration": 0.017305,
     "end_time": "2023-08-09T14:24:47.723355",
     "exception": false,
     "start_time": "2023-08-09T14:24:47.706050",
     "status": "completed"
    },
    "tags": []
   },
   "outputs": [],
   "source": [
    "from sklearn.metrics import classification_report,accuracy_score,confusion_matrix"
   ]
  },
  {
   "cell_type": "markdown",
   "id": "33ab1fed",
   "metadata": {
    "papermill": {
     "duration": 0.007853,
     "end_time": "2023-08-09T14:24:47.739792",
     "exception": false,
     "start_time": "2023-08-09T14:24:47.731939",
     "status": "completed"
    },
    "tags": []
   },
   "source": [
    "<a id='5'></a>\n",
    "# 5.Model Evaluation"
   ]
  },
  {
   "cell_type": "code",
   "execution_count": 15,
   "id": "a7dc4982",
   "metadata": {
    "execution": {
     "iopub.execute_input": "2023-08-09T14:24:47.758253Z",
     "iopub.status.busy": "2023-08-09T14:24:47.757725Z",
     "iopub.status.idle": "2023-08-09T14:24:47.768482Z",
     "shell.execute_reply": "2023-08-09T14:24:47.767372Z"
    },
    "papermill": {
     "duration": 0.023869,
     "end_time": "2023-08-09T14:24:47.771724",
     "exception": false,
     "start_time": "2023-08-09T14:24:47.747855",
     "status": "completed"
    },
    "tags": []
   },
   "outputs": [
    {
     "name": "stdout",
     "output_type": "stream",
     "text": [
      "Accuracy score is: %98.0\n"
     ]
    }
   ],
   "source": [
    "print(f\"Accuracy score is: %{round(accuracy_score(y_test,y_pred),2)*100}\")"
   ]
  },
  {
   "cell_type": "code",
   "execution_count": 16,
   "id": "b1bd7a24",
   "metadata": {
    "execution": {
     "iopub.execute_input": "2023-08-09T14:24:47.790110Z",
     "iopub.status.busy": "2023-08-09T14:24:47.789634Z",
     "iopub.status.idle": "2023-08-09T14:24:47.803215Z",
     "shell.execute_reply": "2023-08-09T14:24:47.802088Z"
    },
    "papermill": {
     "duration": 0.02577,
     "end_time": "2023-08-09T14:24:47.805776",
     "exception": false,
     "start_time": "2023-08-09T14:24:47.780006",
     "status": "completed"
    },
    "tags": []
   },
   "outputs": [
    {
     "data": {
      "text/plain": [
       "array([[966,   0],\n",
       "       [ 23, 126]])"
      ]
     },
     "execution_count": 16,
     "metadata": {},
     "output_type": "execute_result"
    }
   ],
   "source": [
    "confusion_matrix(y_test,y_pred)"
   ]
  },
  {
   "cell_type": "code",
   "execution_count": 17,
   "id": "7b7bd8b1",
   "metadata": {
    "execution": {
     "iopub.execute_input": "2023-08-09T14:24:47.824474Z",
     "iopub.status.busy": "2023-08-09T14:24:47.824031Z",
     "iopub.status.idle": "2023-08-09T14:24:47.846976Z",
     "shell.execute_reply": "2023-08-09T14:24:47.845178Z"
    },
    "papermill": {
     "duration": 0.036646,
     "end_time": "2023-08-09T14:24:47.850966",
     "exception": false,
     "start_time": "2023-08-09T14:24:47.814320",
     "status": "completed"
    },
    "tags": []
   },
   "outputs": [
    {
     "name": "stdout",
     "output_type": "stream",
     "text": [
      "              precision    recall  f1-score   support\n",
      "\n",
      "           0       0.98      1.00      0.99       966\n",
      "           1       1.00      0.85      0.92       149\n",
      "\n",
      "    accuracy                           0.98      1115\n",
      "   macro avg       0.99      0.92      0.95      1115\n",
      "weighted avg       0.98      0.98      0.98      1115\n",
      "\n"
     ]
    }
   ],
   "source": [
    "print(classification_report(y_test,y_pred))"
   ]
  }
 ],
 "metadata": {
  "kernelspec": {
   "display_name": "Python 3",
   "language": "python",
   "name": "python3"
  },
  "language_info": {
   "codemirror_mode": {
    "name": "ipython",
    "version": 3
   },
   "file_extension": ".py",
   "mimetype": "text/x-python",
   "name": "python",
   "nbconvert_exporter": "python",
   "pygments_lexer": "ipython3",
   "version": "3.10.12"
  },
  "papermill": {
   "default_parameters": {},
   "duration": 42.540782,
   "end_time": "2023-08-09T14:24:48.882692",
   "environment_variables": {},
   "exception": null,
   "input_path": "__notebook__.ipynb",
   "output_path": "__notebook__.ipynb",
   "parameters": {},
   "start_time": "2023-08-09T14:24:06.341910",
   "version": "2.4.0"
  }
 },
 "nbformat": 4,
 "nbformat_minor": 5
}
