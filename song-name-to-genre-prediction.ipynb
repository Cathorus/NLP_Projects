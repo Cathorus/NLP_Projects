{
 "cells": [
  {
   "cell_type": "code",
   "execution_count": 1,
   "id": "20de7369",
   "metadata": {
    "execution": {
     "iopub.execute_input": "2023-12-17T23:51:41.611160Z",
     "iopub.status.busy": "2023-12-17T23:51:41.610366Z",
     "iopub.status.idle": "2023-12-17T23:51:42.295691Z",
     "shell.execute_reply": "2023-12-17T23:51:42.294889Z"
    },
    "papermill": {
     "duration": 0.6959,
     "end_time": "2023-12-17T23:51:42.298285",
     "exception": false,
     "start_time": "2023-12-17T23:51:41.602385",
     "status": "completed"
    },
    "tags": []
   },
   "outputs": [],
   "source": [
    "import pandas as pd"
   ]
  },
  {
   "cell_type": "code",
   "execution_count": 2,
   "id": "d863d2b8",
   "metadata": {
    "execution": {
     "iopub.execute_input": "2023-12-17T23:51:42.312354Z",
     "iopub.status.busy": "2023-12-17T23:51:42.311478Z",
     "iopub.status.idle": "2023-12-17T23:51:42.673266Z",
     "shell.execute_reply": "2023-12-17T23:51:42.672317Z"
    },
    "papermill": {
     "duration": 0.371182,
     "end_time": "2023-12-17T23:51:42.675759",
     "exception": false,
     "start_time": "2023-12-17T23:51:42.304577",
     "status": "completed"
    },
    "tags": []
   },
   "outputs": [],
   "source": [
    "# Reading data\n",
    "df = pd.read_csv(\"/kaggle/input/billboard-hot-100-audio-features/Hot 100 Audio Features.csv\")"
   ]
  },
  {
   "cell_type": "code",
   "execution_count": 3,
   "id": "3fed6fcd",
   "metadata": {
    "execution": {
     "iopub.execute_input": "2023-12-17T23:51:42.689262Z",
     "iopub.status.busy": "2023-12-17T23:51:42.688929Z",
     "iopub.status.idle": "2023-12-17T23:51:42.725516Z",
     "shell.execute_reply": "2023-12-17T23:51:42.724556Z"
    },
    "papermill": {
     "duration": 0.045899,
     "end_time": "2023-12-17T23:51:42.727831",
     "exception": false,
     "start_time": "2023-12-17T23:51:42.681932",
     "status": "completed"
    },
    "tags": []
   },
   "outputs": [
    {
     "data": {
      "text/html": [
       "<div>\n",
       "<style scoped>\n",
       "    .dataframe tbody tr th:only-of-type {\n",
       "        vertical-align: middle;\n",
       "    }\n",
       "\n",
       "    .dataframe tbody tr th {\n",
       "        vertical-align: top;\n",
       "    }\n",
       "\n",
       "    .dataframe thead th {\n",
       "        text-align: right;\n",
       "    }\n",
       "</style>\n",
       "<table border=\"1\" class=\"dataframe\">\n",
       "  <thead>\n",
       "    <tr style=\"text-align: right;\">\n",
       "      <th></th>\n",
       "      <th>index</th>\n",
       "      <th>SongID</th>\n",
       "      <th>Performer</th>\n",
       "      <th>Song</th>\n",
       "      <th>spotify_genre</th>\n",
       "      <th>spotify_track_id</th>\n",
       "      <th>spotify_track_preview_url</th>\n",
       "      <th>spotify_track_duration_ms</th>\n",
       "      <th>spotify_track_explicit</th>\n",
       "      <th>spotify_track_album</th>\n",
       "      <th>...</th>\n",
       "      <th>loudness</th>\n",
       "      <th>mode</th>\n",
       "      <th>speechiness</th>\n",
       "      <th>acousticness</th>\n",
       "      <th>instrumentalness</th>\n",
       "      <th>liveness</th>\n",
       "      <th>valence</th>\n",
       "      <th>tempo</th>\n",
       "      <th>time_signature</th>\n",
       "      <th>spotify_track_popularity</th>\n",
       "    </tr>\n",
       "  </thead>\n",
       "  <tbody>\n",
       "    <tr>\n",
       "      <th>0</th>\n",
       "      <td>0</td>\n",
       "      <td>-twistin'-White Silver SandsBill Black's Combo</td>\n",
       "      <td>Bill Black's Combo</td>\n",
       "      <td>-twistin'-White Silver Sands</td>\n",
       "      <td>[]</td>\n",
       "      <td>NaN</td>\n",
       "      <td>NaN</td>\n",
       "      <td>NaN</td>\n",
       "      <td>NaN</td>\n",
       "      <td>NaN</td>\n",
       "      <td>...</td>\n",
       "      <td>NaN</td>\n",
       "      <td>NaN</td>\n",
       "      <td>NaN</td>\n",
       "      <td>NaN</td>\n",
       "      <td>NaN</td>\n",
       "      <td>NaN</td>\n",
       "      <td>NaN</td>\n",
       "      <td>NaN</td>\n",
       "      <td>NaN</td>\n",
       "      <td>NaN</td>\n",
       "    </tr>\n",
       "    <tr>\n",
       "      <th>1</th>\n",
       "      <td>1</td>\n",
       "      <td>¿Dònde Està Santa Claus? (Where Is Santa Claus...</td>\n",
       "      <td>Augie Rios</td>\n",
       "      <td>¿Dònde Està Santa Claus? (Where Is Santa Claus?)</td>\n",
       "      <td>['novelty']</td>\n",
       "      <td>NaN</td>\n",
       "      <td>NaN</td>\n",
       "      <td>NaN</td>\n",
       "      <td>NaN</td>\n",
       "      <td>NaN</td>\n",
       "      <td>...</td>\n",
       "      <td>NaN</td>\n",
       "      <td>NaN</td>\n",
       "      <td>NaN</td>\n",
       "      <td>NaN</td>\n",
       "      <td>NaN</td>\n",
       "      <td>NaN</td>\n",
       "      <td>NaN</td>\n",
       "      <td>NaN</td>\n",
       "      <td>NaN</td>\n",
       "      <td>NaN</td>\n",
       "    </tr>\n",
       "    <tr>\n",
       "      <th>2</th>\n",
       "      <td>2</td>\n",
       "      <td>......And Roses And RosesAndy Williams</td>\n",
       "      <td>Andy Williams</td>\n",
       "      <td>......And Roses And Roses</td>\n",
       "      <td>['adult standards', 'brill building pop', 'eas...</td>\n",
       "      <td>3tvqPPpXyIgKrm4PR9HCf0</td>\n",
       "      <td>https://p.scdn.co/mp3-preview/cef4883cfd1e0e53...</td>\n",
       "      <td>166106.0</td>\n",
       "      <td>False</td>\n",
       "      <td>The Essential Andy Williams</td>\n",
       "      <td>...</td>\n",
       "      <td>-14.063</td>\n",
       "      <td>1.0</td>\n",
       "      <td>0.0315</td>\n",
       "      <td>0.91100</td>\n",
       "      <td>0.000267</td>\n",
       "      <td>0.112</td>\n",
       "      <td>0.150</td>\n",
       "      <td>83.969</td>\n",
       "      <td>4.0</td>\n",
       "      <td>38.0</td>\n",
       "    </tr>\n",
       "    <tr>\n",
       "      <th>3</th>\n",
       "      <td>3</td>\n",
       "      <td>...And Then There Were DrumsSandy Nelson</td>\n",
       "      <td>Sandy Nelson</td>\n",
       "      <td>...And Then There Were Drums</td>\n",
       "      <td>['rock-and-roll', 'space age pop', 'surf music']</td>\n",
       "      <td>1fHHq3qHU8wpRKHzhojZ4a</td>\n",
       "      <td>NaN</td>\n",
       "      <td>172066.0</td>\n",
       "      <td>False</td>\n",
       "      <td>Compelling Percussion</td>\n",
       "      <td>...</td>\n",
       "      <td>-17.278</td>\n",
       "      <td>0.0</td>\n",
       "      <td>0.0361</td>\n",
       "      <td>0.00256</td>\n",
       "      <td>0.745000</td>\n",
       "      <td>0.145</td>\n",
       "      <td>0.801</td>\n",
       "      <td>121.962</td>\n",
       "      <td>4.0</td>\n",
       "      <td>11.0</td>\n",
       "    </tr>\n",
       "    <tr>\n",
       "      <th>4</th>\n",
       "      <td>4</td>\n",
       "      <td>...Baby One More TimeBritney Spears</td>\n",
       "      <td>Britney Spears</td>\n",
       "      <td>...Baby One More Time</td>\n",
       "      <td>['dance pop', 'pop', 'post-teen pop']</td>\n",
       "      <td>3MjUtNVVq3C8Fn0MP3zhXa</td>\n",
       "      <td>https://p.scdn.co/mp3-preview/da2134a161f1cb34...</td>\n",
       "      <td>211066.0</td>\n",
       "      <td>False</td>\n",
       "      <td>...Baby One More Time (Digital Deluxe Version)</td>\n",
       "      <td>...</td>\n",
       "      <td>-5.745</td>\n",
       "      <td>0.0</td>\n",
       "      <td>0.0307</td>\n",
       "      <td>0.20200</td>\n",
       "      <td>0.000131</td>\n",
       "      <td>0.443</td>\n",
       "      <td>0.907</td>\n",
       "      <td>92.960</td>\n",
       "      <td>4.0</td>\n",
       "      <td>77.0</td>\n",
       "    </tr>\n",
       "  </tbody>\n",
       "</table>\n",
       "<p>5 rows × 23 columns</p>\n",
       "</div>"
      ],
      "text/plain": [
       "   index                                             SongID  \\\n",
       "0      0     -twistin'-White Silver SandsBill Black's Combo   \n",
       "1      1  ¿Dònde Està Santa Claus? (Where Is Santa Claus...   \n",
       "2      2             ......And Roses And RosesAndy Williams   \n",
       "3      3           ...And Then There Were DrumsSandy Nelson   \n",
       "4      4                ...Baby One More TimeBritney Spears   \n",
       "\n",
       "            Performer                                              Song  \\\n",
       "0  Bill Black's Combo                      -twistin'-White Silver Sands   \n",
       "1          Augie Rios  ¿Dònde Està Santa Claus? (Where Is Santa Claus?)   \n",
       "2       Andy Williams                         ......And Roses And Roses   \n",
       "3        Sandy Nelson                      ...And Then There Were Drums   \n",
       "4      Britney Spears                             ...Baby One More Time   \n",
       "\n",
       "                                       spotify_genre        spotify_track_id  \\\n",
       "0                                                 []                     NaN   \n",
       "1                                        ['novelty']                     NaN   \n",
       "2  ['adult standards', 'brill building pop', 'eas...  3tvqPPpXyIgKrm4PR9HCf0   \n",
       "3   ['rock-and-roll', 'space age pop', 'surf music']  1fHHq3qHU8wpRKHzhojZ4a   \n",
       "4              ['dance pop', 'pop', 'post-teen pop']  3MjUtNVVq3C8Fn0MP3zhXa   \n",
       "\n",
       "                           spotify_track_preview_url  \\\n",
       "0                                                NaN   \n",
       "1                                                NaN   \n",
       "2  https://p.scdn.co/mp3-preview/cef4883cfd1e0e53...   \n",
       "3                                                NaN   \n",
       "4  https://p.scdn.co/mp3-preview/da2134a161f1cb34...   \n",
       "\n",
       "   spotify_track_duration_ms spotify_track_explicit  \\\n",
       "0                        NaN                    NaN   \n",
       "1                        NaN                    NaN   \n",
       "2                   166106.0                  False   \n",
       "3                   172066.0                  False   \n",
       "4                   211066.0                  False   \n",
       "\n",
       "                              spotify_track_album  ...  loudness  mode  \\\n",
       "0                                             NaN  ...       NaN   NaN   \n",
       "1                                             NaN  ...       NaN   NaN   \n",
       "2                     The Essential Andy Williams  ...   -14.063   1.0   \n",
       "3                           Compelling Percussion  ...   -17.278   0.0   \n",
       "4  ...Baby One More Time (Digital Deluxe Version)  ...    -5.745   0.0   \n",
       "\n",
       "   speechiness  acousticness  instrumentalness  liveness  valence    tempo  \\\n",
       "0          NaN           NaN               NaN       NaN      NaN      NaN   \n",
       "1          NaN           NaN               NaN       NaN      NaN      NaN   \n",
       "2       0.0315       0.91100          0.000267     0.112    0.150   83.969   \n",
       "3       0.0361       0.00256          0.745000     0.145    0.801  121.962   \n",
       "4       0.0307       0.20200          0.000131     0.443    0.907   92.960   \n",
       "\n",
       "   time_signature  spotify_track_popularity  \n",
       "0             NaN                       NaN  \n",
       "1             NaN                       NaN  \n",
       "2             4.0                      38.0  \n",
       "3             4.0                      11.0  \n",
       "4             4.0                      77.0  \n",
       "\n",
       "[5 rows x 23 columns]"
      ]
     },
     "execution_count": 3,
     "metadata": {},
     "output_type": "execute_result"
    }
   ],
   "source": [
    "#looking to Data\n",
    "df.head()"
   ]
  },
  {
   "cell_type": "code",
   "execution_count": 4,
   "id": "06e336a8",
   "metadata": {
    "execution": {
     "iopub.execute_input": "2023-12-17T23:51:42.743202Z",
     "iopub.status.busy": "2023-12-17T23:51:42.742878Z",
     "iopub.status.idle": "2023-12-17T23:51:42.770796Z",
     "shell.execute_reply": "2023-12-17T23:51:42.769940Z"
    },
    "papermill": {
     "duration": 0.037786,
     "end_time": "2023-12-17T23:51:42.772713",
     "exception": false,
     "start_time": "2023-12-17T23:51:42.734927",
     "status": "completed"
    },
    "tags": []
   },
   "outputs": [
    {
     "data": {
      "text/plain": [
       "index                            0\n",
       "SongID                           0\n",
       "Performer                        0\n",
       "Song                             0\n",
       "spotify_genre                 1600\n",
       "spotify_track_id              5106\n",
       "spotify_track_preview_url    15012\n",
       "spotify_track_duration_ms     5106\n",
       "spotify_track_explicit        5106\n",
       "spotify_track_album           5112\n",
       "danceability                  5169\n",
       "energy                        5169\n",
       "key                           5169\n",
       "loudness                      5169\n",
       "mode                          5169\n",
       "speechiness                   5169\n",
       "acousticness                  5169\n",
       "instrumentalness              5169\n",
       "liveness                      5169\n",
       "valence                       5169\n",
       "tempo                         5169\n",
       "time_signature                5169\n",
       "spotify_track_popularity      5106\n",
       "dtype: int64"
      ]
     },
     "execution_count": 4,
     "metadata": {},
     "output_type": "execute_result"
    }
   ],
   "source": [
    "# looking to Null values\n",
    "df.isnull().sum()"
   ]
  },
  {
   "cell_type": "code",
   "execution_count": 5,
   "id": "0fa15a8a",
   "metadata": {
    "execution": {
     "iopub.execute_input": "2023-12-17T23:51:42.786883Z",
     "iopub.status.busy": "2023-12-17T23:51:42.786518Z",
     "iopub.status.idle": "2023-12-17T23:51:42.817692Z",
     "shell.execute_reply": "2023-12-17T23:51:42.816901Z"
    },
    "papermill": {
     "duration": 0.040662,
     "end_time": "2023-12-17T23:51:42.819864",
     "exception": false,
     "start_time": "2023-12-17T23:51:42.779202",
     "status": "completed"
    },
    "tags": []
   },
   "outputs": [],
   "source": [
    "# deleting and resetting index\n",
    "df = df.dropna()\n",
    "df = df.reset_index(drop=True)"
   ]
  },
  {
   "cell_type": "code",
   "execution_count": 6,
   "id": "7d845cbd",
   "metadata": {
    "execution": {
     "iopub.execute_input": "2023-12-17T23:51:42.834616Z",
     "iopub.status.busy": "2023-12-17T23:51:42.834291Z",
     "iopub.status.idle": "2023-12-17T23:51:42.854011Z",
     "shell.execute_reply": "2023-12-17T23:51:42.853111Z"
    },
    "papermill": {
     "duration": 0.029339,
     "end_time": "2023-12-17T23:51:42.856177",
     "exception": false,
     "start_time": "2023-12-17T23:51:42.826838",
     "status": "completed"
    },
    "tags": []
   },
   "outputs": [
    {
     "data": {
      "text/plain": [
       "index                        0\n",
       "SongID                       0\n",
       "Performer                    0\n",
       "Song                         0\n",
       "spotify_genre                0\n",
       "spotify_track_id             0\n",
       "spotify_track_preview_url    0\n",
       "spotify_track_duration_ms    0\n",
       "spotify_track_explicit       0\n",
       "spotify_track_album          0\n",
       "danceability                 0\n",
       "energy                       0\n",
       "key                          0\n",
       "loudness                     0\n",
       "mode                         0\n",
       "speechiness                  0\n",
       "acousticness                 0\n",
       "instrumentalness             0\n",
       "liveness                     0\n",
       "valence                      0\n",
       "tempo                        0\n",
       "time_signature               0\n",
       "spotify_track_popularity     0\n",
       "dtype: int64"
      ]
     },
     "execution_count": 6,
     "metadata": {},
     "output_type": "execute_result"
    }
   ],
   "source": [
    "df.isnull().sum()"
   ]
  },
  {
   "cell_type": "code",
   "execution_count": 7,
   "id": "8421fc39",
   "metadata": {
    "execution": {
     "iopub.execute_input": "2023-12-17T23:51:42.871275Z",
     "iopub.status.busy": "2023-12-17T23:51:42.870950Z",
     "iopub.status.idle": "2023-12-17T23:51:42.878269Z",
     "shell.execute_reply": "2023-12-17T23:51:42.877463Z"
    },
    "papermill": {
     "duration": 0.016947,
     "end_time": "2023-12-17T23:51:42.880232",
     "exception": false,
     "start_time": "2023-12-17T23:51:42.863285",
     "status": "completed"
    },
    "tags": []
   },
   "outputs": [
    {
     "data": {
      "text/plain": [
       "0        ['adult standards', 'brill building pop', 'eas...\n",
       "1                    ['dance pop', 'pop', 'post-teen pop']\n",
       "2        ['album rock', 'bubblegum pop', 'country rock'...\n",
       "3           ['country', 'country dawn', 'nashville sound']\n",
       "4        ['funk', 'motown', 'neo soul', 'new jack swing...\n",
       "                               ...                        \n",
       "14360    ['bubblegum pop', 'classic garage rock', 'frea...\n",
       "14361        ['alternative metal', 'metal', 'post-grunge']\n",
       "14362    ['atl hip hop', 'hip hop', 'pop rap', 'rap', '...\n",
       "14363      ['adult standards', 'easy listening', 'lounge']\n",
       "14364                                        ['freestyle']\n",
       "Name: spotify_genre, Length: 14365, dtype: object"
      ]
     },
     "execution_count": 7,
     "metadata": {},
     "output_type": "execute_result"
    }
   ],
   "source": [
    "df['spotify_genre']"
   ]
  },
  {
   "cell_type": "code",
   "execution_count": 8,
   "id": "b1a31e72",
   "metadata": {
    "execution": {
     "iopub.execute_input": "2023-12-17T23:51:42.894905Z",
     "iopub.status.busy": "2023-12-17T23:51:42.894567Z",
     "iopub.status.idle": "2023-12-17T23:51:43.014527Z",
     "shell.execute_reply": "2023-12-17T23:51:43.013685Z"
    },
    "papermill": {
     "duration": 0.129992,
     "end_time": "2023-12-17T23:51:43.016961",
     "exception": false,
     "start_time": "2023-12-17T23:51:42.886969",
     "status": "completed"
    },
    "tags": []
   },
   "outputs": [],
   "source": [
    "# text cleaning \n",
    "import re\n",
    "\n",
    "def clean_text(text, extract_first=True, convert_to_lowercase=True):\n",
    "    # Convert to string\n",
    "    text = str(text)\n",
    "\n",
    "    if extract_first:\n",
    "        # Extract the first text enclosed in single quotes\n",
    "        match = re.search(r\"'([^']+)'\", text)\n",
    "        if match:\n",
    "            cleaned_text = match.group(1)\n",
    "        else:\n",
    "            cleaned_text = \"\"\n",
    "    else:\n",
    "        # Remove special characters and digits\n",
    "        cleaned_text = re.sub(r'[^a-zA-Z\\s]', '', text)\n",
    "\n",
    "        # Remove extra whitespaces\n",
    "        cleaned_text = re.sub(r'\\s+', ' ', cleaned_text).strip()\n",
    "\n",
    "    if convert_to_lowercase:\n",
    "        # Convert all characters to lowercase\n",
    "        cleaned_text = cleaned_text.lower()\n",
    "\n",
    "    return cleaned_text\n",
    "\n",
    "y = df['spotify_genre'].apply(lambda x: clean_text(x, extract_first=True))\n",
    "x = df['Song'].apply(lambda x: clean_text(x, extract_first=False))"
   ]
  },
  {
   "cell_type": "code",
   "execution_count": 9,
   "id": "54f25aaa",
   "metadata": {
    "execution": {
     "iopub.execute_input": "2023-12-17T23:51:43.032394Z",
     "iopub.status.busy": "2023-12-17T23:51:43.032050Z",
     "iopub.status.idle": "2023-12-17T23:51:43.038087Z",
     "shell.execute_reply": "2023-12-17T23:51:43.037126Z"
    },
    "papermill": {
     "duration": 0.016266,
     "end_time": "2023-12-17T23:51:43.040415",
     "exception": false,
     "start_time": "2023-12-17T23:51:43.024149",
     "status": "completed"
    },
    "tags": []
   },
   "outputs": [
    {
     "name": "stdout",
     "output_type": "stream",
     "text": [
      "0          adult standards\n",
      "1                dance pop\n",
      "2               album rock\n",
      "3                  country\n",
      "4                     funk\n",
      "               ...        \n",
      "14360        bubblegum pop\n",
      "14361    alternative metal\n",
      "14362          atl hip hop\n",
      "14363      adult standards\n",
      "14364            freestyle\n",
      "Name: spotify_genre, Length: 14365, dtype: object\n"
     ]
    }
   ],
   "source": [
    "print(y)"
   ]
  },
  {
   "cell_type": "code",
   "execution_count": 10,
   "id": "6a265627",
   "metadata": {
    "execution": {
     "iopub.execute_input": "2023-12-17T23:51:43.055985Z",
     "iopub.status.busy": "2023-12-17T23:51:43.055653Z",
     "iopub.status.idle": "2023-12-17T23:51:43.067497Z",
     "shell.execute_reply": "2023-12-17T23:51:43.066546Z"
    },
    "papermill": {
     "duration": 0.021881,
     "end_time": "2023-12-17T23:51:43.069573",
     "exception": false,
     "start_time": "2023-12-17T23:51:43.047692",
     "status": "completed"
    },
    "tags": []
   },
   "outputs": [],
   "source": [
    "# factorization for y\n",
    "import numpy as np\n",
    "y = pd.factorize(df['spotify_genre'])[0]\n",
    "\n",
    "unique_values = np.unique(y)\n",
    "num_unique_values = len(unique_values)"
   ]
  },
  {
   "cell_type": "code",
   "execution_count": 11,
   "id": "34c9513a",
   "metadata": {
    "execution": {
     "iopub.execute_input": "2023-12-17T23:51:43.084376Z",
     "iopub.status.busy": "2023-12-17T23:51:43.084081Z",
     "iopub.status.idle": "2023-12-17T23:51:43.089586Z",
     "shell.execute_reply": "2023-12-17T23:51:43.088675Z"
    },
    "papermill": {
     "duration": 0.015535,
     "end_time": "2023-12-17T23:51:43.091976",
     "exception": false,
     "start_time": "2023-12-17T23:51:43.076441",
     "status": "completed"
    },
    "tags": []
   },
   "outputs": [
    {
     "name": "stdout",
     "output_type": "stream",
     "text": [
      "0                and roses and roses\n",
      "1                 baby one more time\n",
      "2                        love affair\n",
      "3        til i can make it on my own\n",
      "4             til my baby comes home\n",
      "                    ...             \n",
      "14360                       zip code\n",
      "14361                         zombie\n",
      "14362                           zoom\n",
      "14363                zorba the greek\n",
      "14364                     zunga zeng\n",
      "Name: Song, Length: 14365, dtype: object\n"
     ]
    }
   ],
   "source": [
    "print(x)"
   ]
  },
  {
   "cell_type": "code",
   "execution_count": 12,
   "id": "0fe478ef",
   "metadata": {
    "execution": {
     "iopub.execute_input": "2023-12-17T23:51:43.107369Z",
     "iopub.status.busy": "2023-12-17T23:51:43.106766Z",
     "iopub.status.idle": "2023-12-17T23:51:43.976835Z",
     "shell.execute_reply": "2023-12-17T23:51:43.975977Z"
    },
    "papermill": {
     "duration": 0.8804,
     "end_time": "2023-12-17T23:51:43.979291",
     "exception": false,
     "start_time": "2023-12-17T23:51:43.098891",
     "status": "completed"
    },
    "tags": []
   },
   "outputs": [
    {
     "name": "stderr",
     "output_type": "stream",
     "text": [
      "/opt/conda/lib/python3.10/site-packages/scipy/__init__.py:146: UserWarning: A NumPy version >=1.16.5 and <1.23.0 is required for this version of SciPy (detected version 1.24.3\n",
      "  warnings.warn(f\"A NumPy version >={np_minversion} and <{np_maxversion}\"\n"
     ]
    }
   ],
   "source": [
    "# Import the train_test_split function from scikit-learn\n",
    "from sklearn.model_selection import train_test_split\n",
    "\n",
    "# Split the data into training and testing sets\n",
    "# test_size=0.2 means that 20% of the data will be used for testing, and 80% for training\n",
    "# random_state=42 ensures reproducibility of the split\n",
    "x_train, x_test, y_train, y_test = train_test_split(x, y, test_size=0.2, random_state=42)"
   ]
  },
  {
   "cell_type": "code",
   "execution_count": 13,
   "id": "b5e4e718",
   "metadata": {
    "execution": {
     "iopub.execute_input": "2023-12-17T23:51:43.995267Z",
     "iopub.status.busy": "2023-12-17T23:51:43.994951Z",
     "iopub.status.idle": "2023-12-17T23:51:55.516140Z",
     "shell.execute_reply": "2023-12-17T23:51:55.515075Z"
    },
    "papermill": {
     "duration": 11.531594,
     "end_time": "2023-12-17T23:51:55.518577",
     "exception": false,
     "start_time": "2023-12-17T23:51:43.986983",
     "status": "completed"
    },
    "tags": []
   },
   "outputs": [],
   "source": [
    "# Import the Tokenizer class from Keras\n",
    "from keras.preprocessing.text import Tokenizer\n",
    "\n",
    "# Initialize the tokenizer\n",
    "tokenizer = Tokenizer()\n",
    "\n",
    "# Build the vocabulary based on the training dataset\n",
    "tokenizer.fit_on_texts(x_train)\n",
    "\n",
    "# Tokenize the training and test datasets\n",
    "x_train = tokenizer.texts_to_sequences(x_train)\n",
    "x_test = tokenizer.texts_to_sequences(x_test)\n",
    "\n",
    "# Vocabulary size (number of unique words) -> will be used in the embedding layer\n",
    "vocab_size = len(tokenizer.word_index) + 1"
   ]
  },
  {
   "cell_type": "code",
   "execution_count": 14,
   "id": "abaea0f1",
   "metadata": {
    "execution": {
     "iopub.execute_input": "2023-12-17T23:51:55.547493Z",
     "iopub.status.busy": "2023-12-17T23:51:55.546531Z",
     "iopub.status.idle": "2023-12-17T23:51:55.607824Z",
     "shell.execute_reply": "2023-12-17T23:51:55.606993Z"
    },
    "papermill": {
     "duration": 0.07336,
     "end_time": "2023-12-17T23:51:55.610199",
     "exception": false,
     "start_time": "2023-12-17T23:51:55.536839",
     "status": "completed"
    },
    "tags": []
   },
   "outputs": [],
   "source": [
    "# Import the pad_sequences function from Keras\n",
    "from keras.preprocessing.sequence import pad_sequences\n",
    "\n",
    "# Find the maximum length of sequences in the training set\n",
    "max_length = max(len(seq) for seq in x_train)\n",
    "\n",
    "# Check for outliers in the test set and print any sequences that exceed the maximum length\n",
    "for x in x_test:\n",
    "    if len(x) > max_length:\n",
    "        print(f\"An outlier detected: {x}\")\n",
    "\n",
    "# Pad sequences to have a uniform length (max_length)\n",
    "x_train = pad_sequences(x_train, maxlen=max_length)\n",
    "x_test = pad_sequences(x_test, maxlen=max_length)"
   ]
  },
  {
   "cell_type": "code",
   "execution_count": 15,
   "id": "7a6f7b8c",
   "metadata": {
    "execution": {
     "iopub.execute_input": "2023-12-17T23:51:55.625924Z",
     "iopub.status.busy": "2023-12-17T23:51:55.625563Z",
     "iopub.status.idle": "2023-12-17T23:51:55.662997Z",
     "shell.execute_reply": "2023-12-17T23:51:55.662155Z"
    },
    "papermill": {
     "duration": 0.047792,
     "end_time": "2023-12-17T23:51:55.665278",
     "exception": false,
     "start_time": "2023-12-17T23:51:55.617486",
     "status": "completed"
    },
    "tags": []
   },
   "outputs": [],
   "source": [
    "# Import the to_categorical function from Keras utils\n",
    "from keras.utils import to_categorical\n",
    "\n",
    "# Convert the categorical labels to one-hot encoded format for both training and testing sets\n",
    "# 'num_classes=num_unique_values' indicates the number of classes in the classification task\n",
    "y_test = to_categorical(y_test, num_classes=num_unique_values)\n",
    "y_train = to_categorical(y_train, num_classes=num_unique_values)"
   ]
  },
  {
   "cell_type": "code",
   "execution_count": 16,
   "id": "e829c9a0",
   "metadata": {
    "execution": {
     "iopub.execute_input": "2023-12-17T23:51:55.681242Z",
     "iopub.status.busy": "2023-12-17T23:51:55.680898Z",
     "iopub.status.idle": "2023-12-17T23:51:58.722914Z",
     "shell.execute_reply": "2023-12-17T23:51:58.721832Z"
    },
    "papermill": {
     "duration": 3.058301,
     "end_time": "2023-12-17T23:51:58.730782",
     "exception": false,
     "start_time": "2023-12-17T23:51:55.672481",
     "status": "completed"
    },
    "tags": []
   },
   "outputs": [
    {
     "name": "stdout",
     "output_type": "stream",
     "text": [
      "Model: \"sequential\"\n",
      "_________________________________________________________________\n",
      " Layer (type)                Output Shape              Param #   \n",
      "=================================================================\n",
      " embedding (Embedding)       (None, 14, 360)           1802160   \n",
      "                                                                 \n",
      " lstm (LSTM)                 (None, 64)                108800    \n",
      "                                                                 \n",
      " dropout (Dropout)           (None, 64)                0         \n",
      "                                                                 \n",
      " dense (Dense)               (None, 256)               16640     \n",
      "                                                                 \n",
      " dropout_1 (Dropout)         (None, 256)               0         \n",
      "                                                                 \n",
      " dense_1 (Dense)             (None, 128)               32896     \n",
      "                                                                 \n",
      " dropout_2 (Dropout)         (None, 128)               0         \n",
      "                                                                 \n",
      " dense_2 (Dense)             (None, 2348)              302892    \n",
      "                                                                 \n",
      "=================================================================\n",
      "Total params: 2263388 (8.63 MB)\n",
      "Trainable params: 2263388 (8.63 MB)\n",
      "Non-trainable params: 0 (0.00 Byte)\n",
      "_________________________________________________________________\n"
     ]
    }
   ],
   "source": [
    "from keras import backend as K\n",
    "from keras.models import Sequential\n",
    "from keras.layers import Embedding\n",
    "from keras.layers import LSTM\n",
    "from keras.layers import Dropout\n",
    "from keras.layers import Dense\n",
    "\n",
    "\n",
    "# Simple recall function\n",
    "def recall(y_true, y_pred):\n",
    "    true_pos = K.sum(K.round(y_true * y_pred))\n",
    "    pos_labels = K.sum(K.round(y_true))\n",
    "    recall = true_pos / (pos_labels + K.epsilon())\n",
    "    return recall\n",
    "\n",
    "# Simple precision function\n",
    "def precision(y_true, y_pred):\n",
    "    true_pos = K.sum(K.round(y_true * y_pred))\n",
    "    pred_pos = K.sum(K.round(y_pred))\n",
    "    precision = true_pos / (pred_pos + K.epsilon())\n",
    "    return precision\n",
    "\n",
    "# Simple F1 score function using the above functions\n",
    "def f1(y_true, y_pred):\n",
    "    precisions = precision(y_true, y_pred)\n",
    "    recalls = recall(y_true, y_pred)\n",
    "    return 2 * (precisions * recalls) / (precisions + recalls + K.epsilon())\n",
    "\n",
    "# Define output dimension\n",
    "output_dim = 360\n",
    "\n",
    "# Create LSTM model architecture (CNN + LSTM)\n",
    "model = Sequential([\n",
    "    Embedding(vocab_size, output_dim, input_length=max_length),\n",
    "    LSTM(64, dropout=0.3, recurrent_dropout=0.3),\n",
    "    Dropout(0.5),\n",
    "    Dense(256, activation=\"relu\"),\n",
    "    Dropout(0.5),\n",
    "    Dense(128, activation=\"relu\"),\n",
    "    Dropout(0.5),\n",
    "    Dense(num_unique_values, activation=\"softmax\"),\n",
    "])\n",
    "\n",
    "# Compile the model with specified metrics\n",
    "model.compile(optimizer='adam', loss='categorical_crossentropy', metrics=['accuracy', f1, precision, recall])\n",
    "\n",
    "# checking the model parameters\n",
    "model.summary()"
   ]
  },
  {
   "cell_type": "code",
   "execution_count": 17,
   "id": "e3639646",
   "metadata": {
    "execution": {
     "iopub.execute_input": "2023-12-17T23:51:58.751235Z",
     "iopub.status.busy": "2023-12-17T23:51:58.750451Z",
     "iopub.status.idle": "2023-12-17T23:54:06.034479Z",
     "shell.execute_reply": "2023-12-17T23:54:06.033550Z"
    },
    "papermill": {
     "duration": 127.296456,
     "end_time": "2023-12-17T23:54:06.036872",
     "exception": false,
     "start_time": "2023-12-17T23:51:58.740416",
     "status": "completed"
    },
    "tags": []
   },
   "outputs": [
    {
     "name": "stdout",
     "output_type": "stream",
     "text": [
      "Epoch 1/10\n",
      "180/180 [==============================] - 27s 109ms/step - loss: 7.1418 - accuracy: 0.0761 - f1: 6.6135e-04 - precision: 0.0106 - recall: 3.4722e-04 - val_loss: 7.0946 - val_accuracy: 0.0731 - val_f1: 0.0000e+00 - val_precision: 0.0000e+00 - val_recall: 0.0000e+00\n",
      "Epoch 2/10\n",
      "180/180 [==============================] - 12s 67ms/step - loss: 6.8611 - accuracy: 0.0797 - f1: 0.0000e+00 - precision: 0.0000e+00 - recall: 0.0000e+00 - val_loss: 7.0488 - val_accuracy: 0.0731 - val_f1: 0.0000e+00 - val_precision: 0.0000e+00 - val_recall: 0.0000e+00\n",
      "Epoch 3/10\n",
      "180/180 [==============================] - 11s 63ms/step - loss: 6.8015 - accuracy: 0.0797 - f1: 0.0013 - precision: 0.0231 - recall: 6.9444e-04 - val_loss: 7.0454 - val_accuracy: 0.0731 - val_f1: 0.0000e+00 - val_precision: 0.0000e+00 - val_recall: 0.0000e+00\n",
      "Epoch 4/10\n",
      "180/180 [==============================] - 11s 62ms/step - loss: 6.7236 - accuracy: 0.0797 - f1: 0.0053 - precision: 0.1472 - recall: 0.0027 - val_loss: 7.0714 - val_accuracy: 0.0731 - val_f1: 0.0000e+00 - val_precision: 0.0000e+00 - val_recall: 0.0000e+00\n",
      "Epoch 5/10\n",
      "180/180 [==============================] - 11s 62ms/step - loss: 6.6673 - accuracy: 0.0797 - f1: 0.0106 - precision: 0.2380 - recall: 0.0055 - val_loss: 7.0980 - val_accuracy: 0.0731 - val_f1: 0.0000e+00 - val_precision: 0.0000e+00 - val_recall: 0.0000e+00\n",
      "Epoch 6/10\n",
      "180/180 [==============================] - 11s 60ms/step - loss: 6.6184 - accuracy: 0.0797 - f1: 0.0183 - precision: 0.3566 - recall: 0.0095 - val_loss: 7.1720 - val_accuracy: 0.0731 - val_f1: 6.8376e-04 - val_precision: 0.0222 - val_recall: 3.4722e-04\n",
      "Epoch 7/10\n",
      "180/180 [==============================] - 11s 60ms/step - loss: 6.5750 - accuracy: 0.0797 - f1: 0.0248 - precision: 0.4510 - recall: 0.0128 - val_loss: 7.2045 - val_accuracy: 0.0731 - val_f1: 0.0020 - val_precision: 0.0556 - val_recall: 0.0010\n",
      "Epoch 8/10\n",
      "180/180 [==============================] - 11s 60ms/step - loss: 6.5434 - accuracy: 0.0797 - f1: 0.0291 - precision: 0.4987 - recall: 0.0151 - val_loss: 7.2557 - val_accuracy: 0.0731 - val_f1: 0.0020 - val_precision: 0.0556 - val_recall: 0.0010\n",
      "Epoch 9/10\n",
      "180/180 [==============================] - 11s 60ms/step - loss: 6.4944 - accuracy: 0.0797 - f1: 0.0324 - precision: 0.5280 - recall: 0.0168 - val_loss: 7.3283 - val_accuracy: 0.0731 - val_f1: 0.0020 - val_precision: 0.0444 - val_recall: 0.0010\n",
      "Epoch 10/10\n",
      "180/180 [==============================] - 11s 60ms/step - loss: 6.4502 - accuracy: 0.0798 - f1: 0.0372 - precision: 0.5300 - recall: 0.0195 - val_loss: 7.3893 - val_accuracy: 0.0731 - val_f1: 0.0020 - val_precision: 0.0556 - val_recall: 0.0010\n"
     ]
    }
   ],
   "source": [
    "# Train the model\n",
    "model_history = model.fit(\n",
    "    x_train,\n",
    "    y_train,\n",
    "    batch_size = 64,\n",
    "    epochs=10,\n",
    "    validation_data=(x_test, y_test)\n",
    ")"
   ]
  },
  {
   "cell_type": "code",
   "execution_count": 18,
   "id": "60d01b52",
   "metadata": {
    "execution": {
     "iopub.execute_input": "2023-12-17T23:54:06.362018Z",
     "iopub.status.busy": "2023-12-17T23:54:06.361478Z",
     "iopub.status.idle": "2023-12-17T23:54:06.649903Z",
     "shell.execute_reply": "2023-12-17T23:54:06.648944Z"
    },
    "papermill": {
     "duration": 0.447787,
     "end_time": "2023-12-17T23:54:06.652200",
     "exception": false,
     "start_time": "2023-12-17T23:54:06.204413",
     "status": "completed"
    },
    "tags": []
   },
   "outputs": [
    {
     "data": {
      "image/png": "[encoded data removed]",
      "text/plain": [
       "<Figure size 640x480 with 1 Axes>"
      ]
     },
     "metadata": {},
     "output_type": "display_data"
    }
   ],
   "source": [
    "import matplotlib.pyplot as plt\n",
    "\n",
    "# Access the training history of the model\n",
    "hist = model.history.history\n",
    "\n",
    "# Plot training loss in red and validation loss in green\n",
    "plt.plot(hist['loss'], 'r', linewidth=2, label='Training loss')\n",
    "plt.plot(hist['val_loss'], 'g', linewidth=2, label='Validation loss')\n",
    "\n",
    "# Set plot title and labels\n",
    "plt.title('Hate Speech and Offensive Language Model')\n",
    "plt.xlabel('Epochs')\n",
    "plt.ylabel('Mean Squared Error (MSE)')\n",
    "\n",
    "# Display legend\n",
    "plt.legend()\n",
    "\n",
    "# Show the plot\n",
    "plt.show()"
   ]
  },
  {
   "cell_type": "code",
   "execution_count": 19,
   "id": "d923f70e",
   "metadata": {
    "execution": {
     "iopub.execute_input": "2023-12-17T23:54:06.964480Z",
     "iopub.status.busy": "2023-12-17T23:54:06.963622Z",
     "iopub.status.idle": "2023-12-17T23:54:07.324729Z",
     "shell.execute_reply": "2023-12-17T23:54:07.323763Z"
    },
    "papermill": {
     "duration": 0.519724,
     "end_time": "2023-12-17T23:54:07.326756",
     "exception": false,
     "start_time": "2023-12-17T23:54:06.807032",
     "status": "completed"
    },
    "tags": []
   },
   "outputs": [
    {
     "name": "stdout",
     "output_type": "stream",
     "text": [
      "1/1 [==============================] - 0s 307ms/step\n",
      "Predicted class: 6\n"
     ]
    }
   ],
   "source": [
    "# Assume user_input is a string provided by the user\n",
    "user_input = \"Your text here\"\n",
    "\n",
    "# Preprocess the user input\n",
    "# ... (perform the same preprocessing as we did for the training data)\n",
    "input_sequence = tokenizer.texts_to_sequences([user_input])\n",
    "padded_input = pad_sequences(input_sequence, maxlen=max_length)\n",
    "# Make predictions\n",
    "predictions = model.predict(padded_input)\n",
    "\n",
    "# Interpret the results (assuming a classification problem)\n",
    "predicted_class = np.argmax(predictions)# Print or use the predicted class\n",
    "\n",
    "print(f\"Predicted class: {predicted_class}\")"
   ]
  },
  {
   "cell_type": "markdown",
   "id": "0f828388",
   "metadata": {
    "papermill": {
     "duration": 0.156911,
     "end_time": "2023-12-17T23:54:07.644964",
     "exception": false,
     "start_time": "2023-12-17T23:54:07.488053",
     "status": "completed"
    },
    "tags": []
   },
   "source": [
    "# We didn't get good results for our model. I think it's because the data's correlation was low. However, if there is another mistake on my part, feel free to comment"
   ]
  }
 ],
 "metadata": {
  "kaggle": {
   "accelerator": "gpu",
   "dataSources": [
    {
     "datasetId": 4104660,
     "sourceId": 7117270,
     "sourceType": "datasetVersion"
    }
   ],
   "dockerImageVersionId": 30627,
   "isGpuEnabled": true,
   "isInternetEnabled": true,
   "language": "python",
   "sourceType": "notebook"
  },
  "kernelspec": {
   "display_name": "Python 3",
   "language": "python",
   "name": "python3"
  },
  "language_info": {
   "codemirror_mode": {
    "name": "ipython",
    "version": 3
   },
   "file_extension": ".py",
   "mimetype": "text/x-python",
   "name": "python",
   "nbconvert_exporter": "python",
   "pygments_lexer": "ipython3",
   "version": "3.10.12"
  },
  "papermill": {
   "default_parameters": {},
   "duration": 152.614076,
   "end_time": "2023-12-17T23:54:10.808519",
   "environment_variables": {},
   "exception": null,
   "input_path": "__notebook__.ipynb",
   "output_path": "__notebook__.ipynb",
   "parameters": {},
   "start_time": "2023-12-17T23:51:38.194443",
   "version": "2.4.0"
  }
 },
 "nbformat": 4,
 "nbformat_minor": 5
}
